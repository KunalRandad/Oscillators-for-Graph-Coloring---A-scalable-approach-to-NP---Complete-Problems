{
 "cells": [
  {
   "cell_type": "code",
   "execution_count": 1,
   "metadata": {},
   "outputs": [],
   "source": [
    "import lava\n",
    "import networkx as nx\n",
    "import matplotlib.pyplot as plt\n",
    "import numpy as np\n",
    "from mod_one_exchange import mod_one_exchange_approximation\n",
    "import graph_col_dimacs_reader as reader\n",
    "import goemans_williamson_sdp as gw_sdp\n",
    "import scipy\n",
    "import matplotlib\n",
    "import re\n",
    "import time"
   ]
  },
  {
   "cell_type": "code",
   "execution_count": 2,
   "metadata": {},
   "outputs": [],
   "source": [
    "G,adj,nnodes = reader.dimacs_reader(\"test_graphs/myciel6.col\")\n",
    "colors,cutsize = mod_one_exchange_approximation(G)\n",
    "# Solve the SDP relaxation of the graph coloring problem\n",
    "colors,cutsize = gw_sdp.goemans_williamson_max_cut(G)\n",
    "# pos = nx.circular_layout(G)\n",
    "# fig = plt.figure(figsize=(10, 10))\n",
    "# ax = fig.add_subplot(111)\n",
    "# nx.draw(G, pos, with_labels=True, edge_color='k', node_size=300, font_size=10, font_color='w', ax = ax)\n",
    "\n",
    "# plt.show()"
   ]
  },
  {
   "cell_type": "code",
   "execution_count": 13,
   "metadata": {},
   "outputs": [],
   "source": [
    "def random_cut(G):\n",
    "    colors = np.random.randint(2, size = G.number_of_nodes())\n",
    "    cutsize = 0\n",
    "    for u,v in G.edges():\n",
    "        if colors[u] != colors[v]:\n",
    "            cutsize += 1\n",
    "    return colors, cutsize"
   ]
  },
  {
   "cell_type": "code",
   "execution_count": 3,
   "metadata": {},
   "outputs": [],
   "source": [
    "# Make a graph to mat converter\n",
    "# convert adj to .mat file\n",
    "def graph_to_mat(G, path = 'test_graphs/default2.mat'):\n",
    "    # get the adjancency matrix of the graph\n",
    "    adj = nx.adjacency_matrix(G).todense()\n",
    "    adj = np.asarray(adj, dtype=np.int32)\n",
    "    scipy.io.savemat(path, {'M': adj})   # M for matrix, to stay consistent with the .mat files we already have\n",
    "    return\n"
   ]
  },
  {
   "cell_type": "code",
   "execution_count": 4,
   "metadata": {},
   "outputs": [],
   "source": [
    "# Lets make mat to graph converter\n",
    "def mat_to_graph(path):\n",
    "    mat = scipy.io.loadmat(path)\n",
    "    G = nx.from_numpy_matrix(mat['M'])\n",
    "    return G\n"
   ]
  },
  {
   "cell_type": "code",
   "execution_count": 5,
   "metadata": {},
   "outputs": [
    {
     "name": "stderr",
     "output_type": "stream",
     "text": [
      "c:\\Users\\91702\\Desktop\\Sem_9\\DDP\\Maxcut\\.venv\\lib\\site-packages\\lava\\magma\\compiler\\compiler_graphs.py:895: UserWarning: Cannot import module '<module 'graphcoloringmaxcut' from 'c:\\\\Users\\\\91702\\\\Desktop\\\\Sem_9\\\\DDP\\\\Maxcut\\\\graphcoloringmaxcut.py'>' when searching ProcessModels for Process 'GraphColorUpdate'.\n",
      "  warnings.warn(\n",
      "c:\\Users\\91702\\Desktop\\Sem_9\\DDP\\Maxcut\\.venv\\lib\\site-packages\\lava\\magma\\compiler\\compiler_graphs.py:895: UserWarning: Cannot import module '<module 'graphcoloringmaxcut' from 'c:\\\\Users\\\\91702\\\\Desktop\\\\Sem_9\\\\DDP\\\\Maxcut\\\\graphcoloringmaxcut.py'>' when searching ProcessModels for Process 'OScillatoryNeuron'.\n",
      "  warnings.warn(\n"
     ]
    }
   ],
   "source": [
    "!python GraphColoringTest.py queen77 0.01 > temp_output7.txt"
   ]
  },
  {
   "cell_type": "code",
   "execution_count": 6,
   "metadata": {},
   "outputs": [
    {
     "name": "stdout",
     "output_type": "stream",
     "text": [
      "Valid coloring\n",
      "17\n",
      "[[14, 29], [8, 4], [7, 5, 27], [41, 16, 46, 12], [36, 19], [38, 18, 48], [31, 21], [45, 28, 2], [23, 13], [35, 1, 32], [33, 11, 15], [22, 6, 40], [10, 20, 0, 37], [24, 9, 47], [39, 17, 42], [30, 43, 26], [34, 25, 3, 44]]\n"
     ]
    }
   ],
   "source": [
    "G = mat_to_graph('test_graphs/queen77.mat')\n",
    "def extract_chromatic_info(file_path):\n",
    "    with open(file_path, 'r') as file:\n",
    "        text = file.read()\n",
    "    \n",
    "    # Extract minimum order-based chromatic number using regex\n",
    "    min_chromatic_number = int(re.search(r\"minimum order-based chromatic number during simulation:  (\\d+)\", text).group(1))\n",
    "    \n",
    "    # Extract color blocks at minimum chromatic number using regex\n",
    "    color_blocks_str = re.search(r\"color blocks at minimum chromatic number:  (\\[\\[.*\\]\\])\", text).group(1)\n",
    "    color_blocks = eval(color_blocks_str)  # When you pass the string representation of a list of lists to eval(), \n",
    "    # it parses the string and converts it into actual Python objects (in this case, a list of lists of integers).\n",
    "    \n",
    "    return min_chromatic_number, color_blocks\n",
    "\n",
    "min_chromatic_number_without_maxcut, color_blocks = extract_chromatic_info('temp_output7.txt')\n",
    "\n",
    "colors = np.zeros(G.number_of_nodes())\n",
    "for i, block in enumerate(color_blocks):\n",
    "    for node in block:\n",
    "        colors[node] = i\n",
    "\n",
    "# check if the coloring is valid\n",
    "valid_coloring = True\n",
    "for edges in G.edges:\n",
    "    if colors[edges[0]] == colors[edges[1]]:\n",
    "        valid_coloring = False\n",
    "        print(\"Invalid coloring\")\n",
    "        print(edges)\n",
    "if valid_coloring:\n",
    "    print(\"Valid coloring\")\n",
    "\n",
    "print(min_chromatic_number_without_maxcut)\n",
    "print(color_blocks)\n"
   ]
  },
  {
   "cell_type": "code",
   "execution_count": null,
   "metadata": {},
   "outputs": [],
   "source": []
  },
  {
   "cell_type": "code",
   "execution_count": 7,
   "metadata": {},
   "outputs": [],
   "source": [
    "def get_subgraphs(G, maxcut_colors):\n",
    "    # maxcut_colors contain 0s and 1s\n",
    "    # 0s are the nodes in the first set\n",
    "    # 1s are the nodes in the second set\n",
    "    # create two maps, one for each set\n",
    "    # We proceed in ascending order over the original graph and assign the nodes to the sets\n",
    "    # according to the maxcut_colors\n",
    "    first_set = []\n",
    "    second_set = []\n",
    "    for i in range(len(maxcut_colors)):\n",
    "        if maxcut_colors[i] == 0:\n",
    "            first_set.append(i)\n",
    "        else:\n",
    "            second_set.append(i)\n",
    "\n",
    "    # create the adjacency matrix for the subgraphs\n",
    "    #\n",
    "    adj = nx.adjacency_matrix(G).todense()\n",
    "    adj = np.asarray(adj, dtype=np.int32)\n",
    "\n",
    "    adj_sub1 = np.zeros((len(first_set), len(first_set)))\n",
    "    adj_sub2 = np.zeros((len(second_set), len(second_set)))\n",
    "\n",
    "    for i in range(len(first_set)):\n",
    "        for j in range(len(first_set)):\n",
    "            adj_sub1[i][j] = adj[first_set[i]][first_set[j]]\n",
    "\n",
    "    for i in range(len(second_set)):\n",
    "        for j in range(len(second_set)):\n",
    "            adj_sub2[i][j] = adj[second_set[i]][second_set[j]]\n",
    "\n",
    "    # create the subgraphs\n",
    "    G_sub1 = nx.from_numpy_matrix(adj_sub1)\n",
    "    G_sub2 = nx.from_numpy_matrix(adj_sub2)\n",
    "\n",
    "    return G_sub1, G_sub2, first_set, second_set"
   ]
  },
  {
   "cell_type": "code",
   "execution_count": 14,
   "metadata": {},
   "outputs": [
    {
     "name": "stderr",
     "output_type": "stream",
     "text": [
      "C:\\Users\\91702\\AppData\\Local\\Temp\\ipykernel_21328\\3790719680.py:18: FutureWarning: adjacency_matrix will return a scipy.sparse array instead of a matrix in Networkx 3.0.\n",
      "  adj = nx.adjacency_matrix(G).todense()\n",
      "C:\\Users\\91702\\AppData\\Local\\Temp\\ipykernel_21328\\496379554.py:5: FutureWarning: adjacency_matrix will return a scipy.sparse array instead of a matrix in Networkx 3.0.\n",
      "  adj = nx.adjacency_matrix(G).todense()\n",
      "c:\\Users\\91702\\Desktop\\Sem_9\\DDP\\Maxcut\\.venv\\lib\\site-packages\\lava\\magma\\compiler\\compiler_graphs.py:895: UserWarning: Cannot import module '<module 'graphcoloringmaxcut' from 'c:\\\\Users\\\\91702\\\\Desktop\\\\Sem_9\\\\DDP\\\\Maxcut\\\\graphcoloringmaxcut.py'>' when searching ProcessModels for Process 'GraphColorUpdate'.\n",
      "  warnings.warn(\n",
      "c:\\Users\\91702\\Desktop\\Sem_9\\DDP\\Maxcut\\.venv\\lib\\site-packages\\lava\\magma\\compiler\\compiler_graphs.py:895: UserWarning: Cannot import module '<module 'graphcoloringmaxcut' from 'c:\\\\Users\\\\91702\\\\Desktop\\\\Sem_9\\\\DDP\\\\Maxcut\\\\graphcoloringmaxcut.py'>' when searching ProcessModels for Process 'OScillatoryNeuron'.\n",
      "  warnings.warn(\n",
      "c:\\Users\\91702\\Desktop\\Sem_9\\DDP\\Maxcut\\.venv\\lib\\site-packages\\lava\\magma\\compiler\\compiler_graphs.py:895: UserWarning: Cannot import module '<module 'graphcoloringmaxcut' from 'c:\\\\Users\\\\91702\\\\Desktop\\\\Sem_9\\\\DDP\\\\Maxcut\\\\graphcoloringmaxcut.py'>' when searching ProcessModels for Process 'GraphColorUpdate'.\n",
      "  warnings.warn(\n",
      "c:\\Users\\91702\\Desktop\\Sem_9\\DDP\\Maxcut\\.venv\\lib\\site-packages\\lava\\magma\\compiler\\compiler_graphs.py:895: UserWarning: Cannot import module '<module 'graphcoloringmaxcut' from 'c:\\\\Users\\\\91702\\\\Desktop\\\\Sem_9\\\\DDP\\\\Maxcut\\\\graphcoloringmaxcut.py'>' when searching ProcessModels for Process 'OScillatoryNeuron'.\n",
      "  warnings.warn(\n"
     ]
    }
   ],
   "source": [
    "# Now run mod one exchange on the graph\n",
    "G = mat_to_graph('test_graphs/queen77.mat')\n",
    "# maxcut_colors,cutsize = mod_one_exchange_approximation(G)\n",
    "maxcut_colors,cutsize = random_cut(G)\n",
    "\n",
    "\n",
    "# take the subgraph induced by part1 and part2 from their adjecency matrix\n",
    "G_sub1, G_sub2, part1, part2 = get_subgraphs(G, maxcut_colors)\n",
    "\n",
    "# Convert the subgraphs to .mat files\n",
    "graph_to_mat(G_sub1, 'test_graphs/queen77_sub1.mat')\n",
    "graph_to_mat(G_sub2, 'test_graphs/queen77_sub2.mat')\n",
    "\n",
    "!python GraphColoringTest.py queen77_sub1 0.01 > temp_output_sub1.txt\n",
    "!python GraphColoringTest.py queen77_sub2 0.01 > temp_output_sub2.txt"
   ]
  },
  {
   "cell_type": "code",
   "execution_count": 39,
   "metadata": {},
   "outputs": [
    {
     "name": "stdout",
     "output_type": "stream",
     "text": [
      "9\n",
      "6\n",
      "Valid coloring for subgraph 1\n",
      "Valid coloring for subgraph 2\n",
      "Valid coloring for full Graph\n"
     ]
    }
   ],
   "source": [
    "# extract chromatic info\n",
    "min_chromatic_number1, color_blocks1 = extract_chromatic_info(file_path = 'temp_output_sub1.txt')\n",
    "min_chromatic_number2, color_blocks2 = extract_chromatic_info(file_path = 'temp_output_sub2.txt')\n",
    "\n",
    "print(min_chromatic_number1)\n",
    "print(min_chromatic_number2)\n",
    "\n",
    "colors1 = np.zeros(G_sub1.number_of_nodes())\n",
    "colors2 = np.zeros(G_sub2.number_of_nodes())\n",
    "color_index = 0\n",
    "for i,block in enumerate(color_blocks1):\n",
    "    for node in block:\n",
    "        colors1[node] = color_index\n",
    "    color_index += 1\n",
    "for i,block in enumerate(color_blocks2):\n",
    "    for node in block:\n",
    "        colors2[node] = color_index\n",
    "    color_index += 1\n",
    "\n",
    "# check if the coloring is valid\n",
    "valid_coloring1 = True\n",
    "valid_coloring2 = True\n",
    "G_sub1 = mat_to_graph('test_graphs/queen77_sub1.mat')\n",
    "G_sub2 = mat_to_graph('test_graphs/queen77_sub2.mat')\n",
    "for edges in G_sub1.edges:\n",
    "    if colors1[edges[0]] == colors1[edges[1]]:\n",
    "        valid_coloring1 = False\n",
    "        print(\"Invalid coloring for subgraph 1\")\n",
    "        print(edges)\n",
    "for edges in G_sub2.edges:\n",
    "    if colors2[edges[0]] == colors2[edges[1]]:\n",
    "        valid_coloring2 = False\n",
    "        print(\"Invalid coloring for subgraph 2\")\n",
    "        print(edges)\n",
    "\n",
    "if(valid_coloring1):\n",
    "    print(\"Valid coloring for subgraph 1\")\n",
    "if(valid_coloring2):\n",
    "    print(\"Valid coloring for subgraph 2\")\n",
    "    \n",
    "# combine the two colorings\n",
    "# Using two pointers approach\n",
    "i = 0\n",
    "j = 0\n",
    "k = 0\n",
    "merged_colors = np.zeros(G.number_of_nodes())\n",
    "while i < G_sub1.number_of_nodes() and j < G_sub2.number_of_nodes():\n",
    "    if maxcut_colors[k] == 0:\n",
    "        merged_colors[part1[i]] = colors1[i]\n",
    "        i += 1\n",
    "    else:\n",
    "        merged_colors[part2[j]] = colors2[j]\n",
    "        j += 1\n",
    "    k += 1\n",
    "while i < G_sub1.number_of_nodes():\n",
    "    merged_colors[part1[i]] = colors1[i]\n",
    "    i += 1\n",
    "    k += 1\n",
    "while j < G_sub2.number_of_nodes():\n",
    "    merged_colors[part2[j]] = colors2[j]\n",
    "    j += 1\n",
    "    k += 1\n",
    "\n",
    "# check if the coloring is valid\n",
    "valid_coloring = True\n",
    "for edges in G.edges:\n",
    "    if merged_colors[edges[0]] == merged_colors[edges[1]]:\n",
    "        valid_coloring = False\n",
    "        print(\"Invalid coloring for full Graph\")\n",
    "        print(edges)\n",
    "if valid_coloring:\n",
    "    print(\"Valid coloring for full Graph\")\n",
    "\n",
    "\n",
    "\n",
    "\n"
   ]
  },
  {
   "cell_type": "code",
   "execution_count": 16,
   "metadata": {},
   "outputs": [
    {
     "name": "stdout",
     "output_type": "stream",
     "text": [
      "Valid coloring for subgraph 1\n",
      "Valid coloring for subgraph 2\n"
     ]
    }
   ],
   "source": [
    "# Construct a map from of indices in subgraph to indices in the original graph\n",
    "sub1_to_original = {}\n",
    "sub2_to_original = {}\n",
    "for i in range(len(part1)):\n",
    "    sub1_to_original[i] = part1[i]\n",
    "for i in range(len(part2)):\n",
    "    sub2_to_original[i] = part2[i]\n",
    "\n",
    "# check if the coloring is valid\n",
    "valid_coloring1 = True\n",
    "valid_coloring2 = True\n",
    "\n",
    "for edges in G_sub1.edges:\n",
    "    if colors1[edges[0]] == colors1[edges[1]]:\n",
    "        valid_coloring1 = False\n",
    "        print(\"Invalid coloring for subgraph 1\")\n",
    "        print(edges)\n",
    "        # get the corresponding nodes in the original graph\n",
    "        print(sub1_to_original[edges[0]], sub1_to_original[edges[1]])\n",
    "for edges in G_sub2.edges:\n",
    "    if colors2[edges[0]] == colors2[edges[1]]:\n",
    "        valid_coloring2 = False\n",
    "        print(\"Invalid coloring for subgraph 2\")\n",
    "        print(edges)\n",
    "        # get the corresponding nodes in the original graph\n",
    "        print(sub2_to_original[edges[0]], sub2_to_original[edges[1]])\n",
    "\n",
    "if(valid_coloring1):\n",
    "    print(\"Valid coloring for subgraph 1\")\n",
    "if(valid_coloring2):\n",
    "    print(\"Valid coloring for subgraph 2\")\n",
    "\n",
    "    "
   ]
  },
  {
   "cell_type": "code",
   "execution_count": 17,
   "metadata": {},
   "outputs": [
    {
     "name": "stdout",
     "output_type": "stream",
     "text": [
      "Valid coloring\n"
     ]
    }
   ],
   "source": [
    "# Check if the coloring is valid for merged graph\n",
    "valid_coloring = True\n",
    "for edges in G.edges:\n",
    "    if merged_colors[edges[0]] == merged_colors[edges[1]]:\n",
    "        valid_coloring = False\n",
    "        print(\"Invalid coloring\")\n",
    "        print(edges)\n",
    "if valid_coloring:\n",
    "    print(\"Valid coloring\")"
   ]
  },
  {
   "cell_type": "code",
   "execution_count": 29,
   "metadata": {},
   "outputs": [
    {
     "name": "stdout",
     "output_type": "stream",
     "text": [
      "[[0. 1. 1. 1. 1. 1. 1. 1. 1. 1. 1. 1. 1. 1. 1.]\n",
      " [1. 0. 1. 1. 1. 1. 1. 1. 1. 1. 1. 1. 1. 1. 1.]\n",
      " [1. 1. 0. 1. 1. 1. 0. 1. 1. 0. 1. 0. 1. 1. 0.]\n",
      " [1. 1. 1. 0. 1. 1. 1. 1. 1. 1. 1. 1. 1. 1. 1.]\n",
      " [1. 1. 1. 1. 0. 1. 1. 1. 1. 1. 1. 1. 1. 1. 1.]\n",
      " [1. 1. 1. 1. 1. 0. 1. 1. 1. 1. 1. 1. 1. 1. 1.]\n",
      " [1. 1. 0. 1. 1. 1. 0. 1. 1. 1. 1. 1. 1. 1. 1.]\n",
      " [1. 1. 1. 1. 1. 1. 1. 0. 1. 1. 1. 1. 1. 1. 1.]\n",
      " [1. 1. 1. 1. 1. 1. 1. 1. 0. 1. 1. 1. 1. 1. 1.]\n",
      " [1. 1. 0. 1. 1. 1. 1. 1. 1. 0. 1. 1. 1. 1. 1.]\n",
      " [1. 1. 1. 1. 1. 1. 1. 1. 1. 1. 0. 1. 1. 1. 1.]\n",
      " [1. 1. 0. 1. 1. 1. 1. 1. 1. 1. 1. 0. 1. 1. 1.]\n",
      " [1. 1. 1. 1. 1. 1. 1. 1. 1. 1. 1. 1. 0. 1. 1.]\n",
      " [1. 1. 1. 1. 1. 1. 1. 1. 1. 1. 1. 1. 1. 0. 1.]\n",
      " [1. 1. 0. 1. 1. 1. 1. 1. 1. 1. 1. 1. 1. 1. 0.]]\n",
      "Reducible\n"
     ]
    }
   ],
   "source": [
    "num_colors = min_chromatic_number1 + min_chromatic_number2\n",
    "# num_colors*num_colors matrix to denote if th ecolors are connected or not\n",
    "color_adj = np.zeros((num_colors,num_colors))\n",
    "for edges in G.edges:\n",
    "    color_adj[int(merged_colors[edges[0]])][int(merged_colors[edges[1]])] = 1\n",
    "    color_adj[int(merged_colors[edges[1]])][int(merged_colors[edges[0]])] = 1\n",
    "\n",
    "print(color_adj)\n",
    "temp_check = np.ones((num_colors,num_colors)) - np.eye(num_colors)\n",
    "if np.array_equal(color_adj, temp_check):\n",
    "    print(\"Irreducible\")\n",
    "else:\n",
    "    print(\"Reducible\")\n",
    "    \n"
   ]
  },
  {
   "cell_type": "code",
   "execution_count": 30,
   "metadata": {},
   "outputs": [
    {
     "name": "stderr",
     "output_type": "stream",
     "text": [
      "C:\\Users\\91702\\AppData\\Local\\Temp\\ipykernel_21328\\496379554.py:5: FutureWarning: adjacency_matrix will return a scipy.sparse array instead of a matrix in Networkx 3.0.\n",
      "  adj = nx.adjacency_matrix(G).todense()\n"
     ]
    }
   ],
   "source": [
    "# Create a graph from color adj\n",
    "color_graph = nx.from_numpy_matrix(color_adj)\n",
    "graph_to_mat(color_graph, 'test_graphs/color_graph.mat')\n",
    "\n"
   ]
  },
  {
   "cell_type": "code",
   "execution_count": 31,
   "metadata": {},
   "outputs": [
    {
     "name": "stderr",
     "output_type": "stream",
     "text": [
      "c:\\Users\\91702\\Desktop\\Sem_9\\DDP\\Maxcut\\.venv\\lib\\site-packages\\lava\\magma\\compiler\\compiler_graphs.py:895: UserWarning: Cannot import module '<module 'graphcoloringmaxcut' from 'c:\\\\Users\\\\91702\\\\Desktop\\\\Sem_9\\\\DDP\\\\Maxcut\\\\graphcoloringmaxcut.py'>' when searching ProcessModels for Process 'GraphColorUpdate'.\n",
      "  warnings.warn(\n",
      "c:\\Users\\91702\\Desktop\\Sem_9\\DDP\\Maxcut\\.venv\\lib\\site-packages\\lava\\magma\\compiler\\compiler_graphs.py:895: UserWarning: Cannot import module '<module 'graphcoloringmaxcut' from 'c:\\\\Users\\\\91702\\\\Desktop\\\\Sem_9\\\\DDP\\\\Maxcut\\\\graphcoloringmaxcut.py'>' when searching ProcessModels for Process 'OScillatoryNeuron'.\n",
      "  warnings.warn(\n"
     ]
    }
   ],
   "source": [
    "!python GraphColoringTest.py color_graph 0.01 > temp_color_output.txt"
   ]
  },
  {
   "cell_type": "code",
   "execution_count": 34,
   "metadata": {},
   "outputs": [
    {
     "name": "stdout",
     "output_type": "stream",
     "text": [
      "14\n"
     ]
    }
   ],
   "source": [
    "# Find chromatic number using brute force\n",
    "def min_chromatic_number(G):\n",
    "    # Use networkx's greedy_color algorithm to assign colors\n",
    "    color_assignment = nx.coloring.greedy_color(G, strategy=\"largest_first\")\n",
    "    \n",
    "    # The chromatic number is the maximum color index used + 1\n",
    "    chromatic_number = max(color_assignment.values()) + 1\n",
    "    \n",
    "    # Returning chromatic number and color assignment for nodes\n",
    "    return chromatic_number, color_assignment\n",
    "\n",
    "min_colors, _ = min_chromatic_number(color_graph)\n",
    "print(min_colors)\n",
    "\n"
   ]
  },
  {
   "cell_type": "code",
   "execution_count": 37,
   "metadata": {},
   "outputs": [
    {
     "data": {
      "text/plain": [
       "14"
      ]
     },
     "execution_count": 37,
     "metadata": {},
     "output_type": "execute_result"
    }
   ],
   "source": [
    "min_colors\n"
   ]
  },
  {
   "cell_type": "code",
   "execution_count": 36,
   "metadata": {},
   "outputs": [
    {
     "data": {
      "text/plain": [
       "{0: 0,\n",
       " 1: 1,\n",
       " 3: 2,\n",
       " 4: 3,\n",
       " 5: 4,\n",
       " 7: 5,\n",
       " 8: 6,\n",
       " 10: 7,\n",
       " 12: 8,\n",
       " 13: 9,\n",
       " 6: 10,\n",
       " 9: 11,\n",
       " 11: 12,\n",
       " 14: 13,\n",
       " 2: 10}"
      ]
     },
     "execution_count": 36,
     "metadata": {},
     "output_type": "execute_result"
    }
   ],
   "source": [
    "_"
   ]
  },
  {
   "cell_type": "code",
   "execution_count": null,
   "metadata": {},
   "outputs": [],
   "source": []
  }
 ],
 "metadata": {
  "kernelspec": {
   "display_name": ".venv",
   "language": "python",
   "name": "python3"
  },
  "language_info": {
   "codemirror_mode": {
    "name": "ipython",
    "version": 3
   },
   "file_extension": ".py",
   "mimetype": "text/x-python",
   "name": "python",
   "nbconvert_exporter": "python",
   "pygments_lexer": "ipython3",
   "version": "3.8.10"
  }
 },
 "nbformat": 4,
 "nbformat_minor": 2
}
