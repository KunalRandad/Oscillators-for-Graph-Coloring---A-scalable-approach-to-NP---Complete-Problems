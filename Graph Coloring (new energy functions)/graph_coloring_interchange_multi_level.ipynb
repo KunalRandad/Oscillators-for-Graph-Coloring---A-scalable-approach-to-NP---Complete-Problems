{
 "cells": [
  {
   "cell_type": "code",
   "execution_count": 1,
   "metadata": {},
   "outputs": [],
   "source": [
    "# !pip install lava-nc\n",
    "# !pip install networkx==2.8\n",
    "# !pip install matplotlib\n",
    "# !pip install cvxpy\n",
    "# !pip install lava-nc\n",
    "# !pip install pandas\n",
    "# !pip install python-louvain"
   ]
  },
  {
   "cell_type": "code",
   "execution_count": 2,
   "metadata": {},
   "outputs": [],
   "source": [
    "# !pip uninstall networkx -y\n",
    "# install latest version of networkx\n",
    "# !pip install networkx==2.8.7"
   ]
  },
  {
   "cell_type": "code",
   "execution_count": 3,
   "metadata": {},
   "outputs": [],
   "source": [
    "import lava\n",
    "import cProfile\n",
    "import networkx as nx\n",
    "import matplotlib.pyplot as plt\n",
    "import numpy as np\n",
    "from mod_one_exchange_new import mod_one_exchange_approximation_new\n",
    "from mod_one_exchange import mod_one_exchange_approximation\n",
    "import graph_col_dimacs_reader as reader\n",
    "import goemans_williamson_sdp as gw_sdp\n",
    "import scipy\n",
    "import matplotlib\n",
    "import re\n",
    "import time\n",
    "import sys\n",
    "import community as community_louvain"
   ]
  },
  {
   "cell_type": "code",
   "execution_count": 4,
   "metadata": {},
   "outputs": [
    {
     "name": "stdout",
     "output_type": "stream",
     "text": [
      "2.8.7\n"
     ]
    }
   ],
   "source": [
    "# print version of networkx\n",
    "print(nx.__version__)"
   ]
  },
  {
   "cell_type": "code",
   "execution_count": 5,
   "metadata": {},
   "outputs": [],
   "source": [
    "def density(adj_matrix):\n",
    "    return np.sum(adj_matrix) / (adj_matrix.shape[0] * (adj_matrix.shape[1]-1))"
   ]
  },
  {
   "cell_type": "code",
   "execution_count": 6,
   "metadata": {},
   "outputs": [],
   "source": [
    "def graph_to_mat(G, path = 'test_graphs/default2.mat'):\n",
    "    # get the adjancency matrix of the graph\n",
    "    adj = nx.adjacency_matrix(G).toarray()\n",
    "    adj = np.asarray(adj, dtype=np.int32)\n",
    "    scipy.io.savemat(path, {'M': adj})   # M for matrix, to stay consistent with the .mat files we already have\n",
    "    return\n",
    "\n",
    "def mat_to_graph(path):\n",
    "    mat = scipy.io.loadmat(path)\n",
    "    G = nx.from_numpy_array(mat['M'])\n",
    "    return G"
   ]
  },
  {
   "cell_type": "code",
   "execution_count": 11,
   "metadata": {},
   "outputs": [],
   "source": [
    "from GraphColoringTest import gen_permutation_matrix, get_chr, compute_loss, gen_cyclic_graph\n",
    "import GraphColoringSoln as GC\n",
    "from lava.magma.core.run_configs import Loihi1SimCfg\n",
    "from lava.magma.core.run_conditions import RunSteps\n",
    "from lava.proc.monitor.process import Monitor\n",
    "\n",
    "\n",
    "# define a function graph_painter, input would be a adjacency matrix, output should be a 1-d array of colors\n",
    "def graph_painter(adj,phi_init):\n",
    "    # adj is a numpy array\n",
    "    B = adj\n",
    "    num_nodes = B.shape[0]\n",
    "    conns = np.sum(B, axis=1)\n",
    "    Cscale = 0.1\n",
    "    C = (1.0 - adj)\n",
    "    connsC = np.sum(C, axis=1)\n",
    "\n",
    "    # init_range = 0.95*np.pi\n",
    "    # phi_init = np.random.uniform(-init_range, init_range, size=(num_nodes,))\n",
    "\n",
    "    cos_phi_init = np.cos(phi_init)\n",
    "    sin_phi_init = np.sin(phi_init)\n",
    "\n",
    "    lr = 0.01\n",
    "\n",
    "    lrc = lr*(num_nodes - conns)/(num_nodes)\n",
    "    lrr = Cscale*lr*conns/(num_nodes)\n",
    "    tau = 500\n",
    "    decay = 1 - 1/tau\n",
    "    sigma = 0.01\n",
    "    num_steps = 2000\n",
    "\n",
    "    nodes = GC.OScillatoryNeuronBasic(shape=(num_nodes,), phi=phi_init, sigma=sigma, decay=decay, lrc=lrc)\n",
    "    connections = GC.GraphColorUpdateBasic(shape=(num_nodes,), shape_mat=(num_nodes, num_nodes), B=B)\n",
    "    phi_monitor = Monitor()\n",
    "\n",
    "    nodes.cos_out.connect(connections.cos_in)\n",
    "    nodes.sin_out.connect(connections.sin_in)\n",
    "\n",
    "    connections.B_cos_out.connect(nodes.B_cos_in)\n",
    "    connections.B_sin_out.connect(nodes.B_sin_in)\n",
    "    #connections.C_cos_out.connect(nodes.C_cos_in)\n",
    "    #connections.C_sin_out.connect(nodes.C_sin_in)\n",
    "    phi_monitor.probe(nodes.phi, num_steps)\n",
    "    \n",
    "    nodes.run(condition=RunSteps(num_steps=num_steps), run_cfg=Loihi1SimCfg())\n",
    "    phi_vals = phi_monitor.get_data()\n",
    "    nodes.stop()\n",
    "    # print(list(phi_vals.keys()))\n",
    "    phi_history = phi_vals[list(phi_vals.keys())[0]]['phi']\n",
    "    # phi_history = phi_vals['Process_0']['phi']\n",
    "\n",
    "    last_phi = phi_history[-1,:]\n",
    "    P, order = gen_permutation_matrix(last_phi)\n",
    "    # chromatic_number, min_color_blocks = get_chr(P, adj, order)\n",
    "    # print(\"order-based chromatic number at simulation end: \", chromatic_number)\n",
    "    # print(\"color blocks at simulation end: \", min_color_blocks)\n",
    "    \n",
    "    print_fr = 500\n",
    "    chr_ns = []\n",
    "    min_chr_n = num_nodes\n",
    "    min_ind = 0\n",
    "    min_chr_n_color_blocks = [[i] for i in range(num_nodes)]\n",
    "    for i in range(phi_history.shape[0]):\n",
    "        # if i%print_fr == print_fr-1:\n",
    "        #     print(\"computing for iter: \", i+1)\n",
    "        #     print(\"minimum chromatic number: \", min_chr_n)\n",
    "        curr_phi = phi_history[i,:]\n",
    "        P, order = gen_permutation_matrix(curr_phi)\n",
    "        chr_n, chr_n_color_blocks = get_chr(P, adj, order)  # changes here\n",
    "        if chr_n<min_chr_n:\n",
    "            min_chr_n = chr_n\n",
    "            min_ind = i\n",
    "            min_chr_n_color_blocks = chr_n_color_blocks\n",
    "        chr_ns.append(chr_n)\n",
    "    \n",
    "    # print(\"minimum order-based chromatic number during simulation: \", min_chr_n)\n",
    "    # print(\"color blocks at minimum chromatic number: \", min_chr_n_color_blocks)\n",
    "\n",
    "    return min_chr_n_color_blocks, phi_history, curr_phi\n",
    "\n",
    "def get_color_indice_array(color_blocks, adj):\n",
    "    color_indice_array = np.zeros(adj.shape[0], dtype=np.int32)\n",
    "    temp_color_index = 0\n",
    "    for color_block in color_blocks:\n",
    "        for node in color_block:\n",
    "            color_indice_array[node] = temp_color_index\n",
    "        temp_color_index += 1\n",
    "    num_colors = temp_color_index\n",
    "    return color_indice_array, num_colors\n",
    "\n",
    "def get_color_adj_graph(color_indice_array, adj, num_colors):\n",
    "    color_adj = np.zeros((num_colors,num_colors), dtype=np.int32)\n",
    "    for i in range(adj.shape[0]):\n",
    "        for j in range(adj.shape[0]):\n",
    "            if adj[i][j] == 1:\n",
    "                color_adj[color_indice_array[i]][color_indice_array[j]] = 1\n",
    "    return color_adj\n",
    "\n"
   ]
  },
  {
   "cell_type": "code",
   "execution_count": 8,
   "metadata": {},
   "outputs": [],
   "source": [
    "def loss_func(phi_history, adj):\n",
    "    num_nodes = adj.shape[0]\n",
    "    loss_list = []\n",
    "    for i in range (len(phi_history)):\n",
    "        curr_phi = phi_history[i]\n",
    "        loss = 0\n",
    "        for j in range (num_nodes):\n",
    "            for k in range (j):\n",
    "                if(adj[j][k] == 1):\n",
    "                    loss -= 1 - np.cos(curr_phi[j] - curr_phi[k])\n",
    "        loss_list.append(loss)\n",
    "    return loss_list\n",
    "\n",
    "def interchange_algo(adj, color_indice_array, num_colors):\n",
    "    # This shall implement an approximate interchange algorithm from networkx greedy method for graph coloring\n",
    "    num_nodes = adj.shape[0]\n",
    "    interchange_list = []\n",
    "    visited = np.zeros(num_nodes)\n",
    "    for i in range(num_nodes):\n",
    "        for j in range(i, num_nodes):\n",
    "            if(visited[i] == 1 or visited[j] == 1 or i==j):\n",
    "                continue\n",
    "            if(color_indice_array[i] != color_indice_array[j]):\n",
    "                flag = 1\n",
    "                for k in range(num_nodes):\n",
    "                    if(k!=j and color_indice_array[k] == color_indice_array[j] and adj[i][k] == 1):\n",
    "                        flag = 0\n",
    "                        break\n",
    "                if flag == 1:\n",
    "                    for k in range(num_nodes):\n",
    "                        if(k!=i and color_indice_array[k] == color_indice_array[i] and adj[j][k] == 1):\n",
    "                            flag = 0\n",
    "                            break\n",
    "                if flag == 1:\n",
    "                    interchange_list.append((i,j))\n",
    "                    visited[i] = 1\n",
    "                    visited[j] = 1\n",
    "                    break       \n",
    "    return interchange_list"
   ]
  },
  {
   "cell_type": "code",
   "execution_count": 9,
   "metadata": {},
   "outputs": [],
   "source": [
    "def graph_painter_multi_level(adj, phi_init, level):\n",
    "    num_nodes = adj.shape[0]\n",
    "    color_blocks, phi_history, curr_phi = graph_painter(adj, phi_init)\n",
    "    color_indice_array, num_colors = get_color_indice_array(color_blocks, adj)\n",
    "    color_adj1 = get_color_adj_graph(color_indice_array, adj, num_colors)\n",
    "    if(density(color_adj1) == 1):\n",
    "        print(\"Level: \", level)\n",
    "        return color_blocks, phi_history, curr_phi\n",
    "    else:\n",
    "        phi_init_adj = 0.7*np.random.uniform(-np.pi, np.pi, size=(num_colors,))\n",
    "        color_blocks_adj, phi_history_adj, curr_phi_adj = graph_painter_multi_level(color_adj1, phi_init_adj, level+1)\n",
    "        color_indice_array_adj, num_colors_adj = get_color_indice_array(color_blocks_adj, color_adj1)\n",
    "        new_color_indice_array = []\n",
    "        for i in range(len(color_indice_array)):\n",
    "            new_color_indice_array.append(color_indice_array_adj[color_indice_array[i]])\n",
    "        new_color_blocks = []\n",
    "        for i in range(num_colors_adj):\n",
    "            new_color_blocks.append([])\n",
    "        for i in range(num_nodes):\n",
    "            new_color_blocks[new_color_indice_array[i]].append(i)\n",
    "        return new_color_blocks, phi_history, curr_phi\n"
   ]
  },
  {
   "cell_type": "code",
   "execution_count": 10,
   "metadata": {},
   "outputs": [],
   "source": [
    "# huck, myciel3, myciel4, myciel5, myciel6"
   ]
  },
  {
   "cell_type": "code",
   "execution_count": 35,
   "metadata": {},
   "outputs": [
    {
     "name": "stderr",
     "output_type": "stream",
     "text": [
      "/tmp/ipykernel_70659/4243994914.py:4: FutureWarning: adjacency_matrix will return a scipy.sparse array instead of a matrix in Networkx 3.0.\n",
      "  adj = nx.adjacency_matrix(G).toarray()\n"
     ]
    },
    {
     "name": "stdout",
     "output_type": "stream",
     "text": [
      "Level:  7\n",
      "Initial Loss:  -11106.564584718199\n",
      "Final Loss:  -15293.064761058906\n",
      "num_colors:  51\n",
      "Density of the original graph:  0.09986372745490982\n",
      "Density of the colored graph:  1.0\n"
     ]
    },
    {
     "data": {
      "image/png": "[encoded data removed]",
      "text/plain": [
       "<Figure size 640x480 with 1 Axes>"
      ]
     },
     "metadata": {},
     "output_type": "display_data"
    },
    {
     "name": "stdout",
     "output_type": "stream",
     "text": [
      "Number of interchanges:  247\n",
      "Level:  12\n",
      "Loss:  -15311.666130855065\n",
      "num_colors:  49\n",
      "Density of the original graph:  0.09986372745490982\n",
      "Density of the colored graph:  1.0\n"
     ]
    },
    {
     "data": {
      "image/png": "[encoded data removed]",
      "text/plain": [
       "<Figure size 640x480 with 1 Axes>"
      ]
     },
     "metadata": {},
     "output_type": "display_data"
    }
   ],
   "source": [
    "path = 'test_graphs/dsjc500.1'\n",
    "# path = 'test_graphs/queen55.mat'\n",
    "G = mat_to_graph(path)\n",
    "adj = nx.adjacency_matrix(G).toarray()\n",
    "num_nodes = adj.shape[0]\n",
    "init_range = 0.7*np.pi\n",
    "phi_init = np.random.uniform(-init_range, init_range, size=(num_nodes,))\n",
    "color_blocks, phi_history, curr_phi = graph_painter_multi_level(adj, phi_init,0)\n",
    "loss_list = loss_func(phi_history, adj)\n",
    "print(\"Initial Loss: \", loss_list[0])\n",
    "print(\"Final Loss: \", loss_list[-1])\n",
    "color_indice_array, num_colors = get_color_indice_array(color_blocks, adj)\n",
    "color_adj1 = get_color_adj_graph(color_indice_array, adj, num_colors)\n",
    "print(\"num_colors: \", num_colors)\n",
    "print(\"Density of the original graph: \", density(adj))\n",
    "print(\"Density of the colored graph: \", density(color_adj1))\n",
    "# Plotting the loss\n",
    "plt.plot(loss_list)\n",
    "plt.xlabel('Iterations')\n",
    "plt.ylabel('Loss')\n",
    "plt.title('Loss vs Iterations')\n",
    "plt.show()\n",
    "\n",
    "interchange_list = interchange_algo(adj, color_indice_array,num_colors)\n",
    "print(\"Number of interchanges: \", len(interchange_list))\n",
    "for swap_pairs in interchange_list:\n",
    "    curr_phi[swap_pairs[0]], curr_phi[swap_pairs[1]] = curr_phi[swap_pairs[1]], curr_phi[swap_pairs[0]]\n",
    "color_blocks, phi_history, curr_phi = graph_painter_multi_level(adj,curr_phi,0)\n",
    "loss_list = loss_func(phi_history, adj)\n",
    "print(\"Loss: \", loss_list[-1])\n",
    "color_indice_array, num_colors = get_color_indice_array(color_blocks, adj)\n",
    "color_adj1 = get_color_adj_graph(color_indice_array,adj, num_colors)\n",
    "print(\"num_colors: \", num_colors)\n",
    "print(\"Density of the original graph: \", density(adj))\n",
    "print(\"Density of the colored graph: \", density(color_adj1))\n",
    "# Plotting the loss\n",
    "plt.plot(loss_list)\n",
    "plt.xlabel('Iterations')\n",
    "plt.ylabel('Loss')\n",
    "plt.title('Loss vs Iterations')\n",
    "plt.show()\n"
   ]
  },
  {
   "cell_type": "code",
   "execution_count": 36,
   "metadata": {},
   "outputs": [
    {
     "name": "stdout",
     "output_type": "stream",
     "text": [
      "num_colors:  49\n",
      "Density of the original graph:  1.0\n",
      "Density of the colored graph:  1.0\n",
      "Color adjacency matrix: \n",
      "[0 1 1 1 1 1 1 1 1 1 1 1 1 1 1 1 1 1 1 1 1 1 1 1 1 1 1 1 1 1 1 1 1 1 1 1 1\n",
      " 1 1 1 1 1 1 1 1 1 1 1 1]\n",
      "[1 0 1 1 1 1 1 1 1 1 1 1 1 1 1 1 1 1 1 1 1 1 1 1 1 1 1 1 1 1 1 1 1 1 1 1 1\n",
      " 1 1 1 1 1 1 1 1 1 1 1 1]\n",
      "[1 1 0 1 1 1 1 1 1 1 1 1 1 1 1 1 1 1 1 1 1 1 1 1 1 1 1 1 1 1 1 1 1 1 1 1 1\n",
      " 1 1 1 1 1 1 1 1 1 1 1 1]\n",
      "[1 1 1 0 1 1 1 1 1 1 1 1 1 1 1 1 1 1 1 1 1 1 1 1 1 1 1 1 1 1 1 1 1 1 1 1 1\n",
      " 1 1 1 1 1 1 1 1 1 1 1 1]\n",
      "[1 1 1 1 0 1 1 1 1 1 1 1 1 1 1 1 1 1 1 1 1 1 1 1 1 1 1 1 1 1 1 1 1 1 1 1 1\n",
      " 1 1 1 1 1 1 1 1 1 1 1 1]\n",
      "[1 1 1 1 1 0 1 1 1 1 1 1 1 1 1 1 1 1 1 1 1 1 1 1 1 1 1 1 1 1 1 1 1 1 1 1 1\n",
      " 1 1 1 1 1 1 1 1 1 1 1 1]\n",
      "[1 1 1 1 1 1 0 1 1 1 1 1 1 1 1 1 1 1 1 1 1 1 1 1 1 1 1 1 1 1 1 1 1 1 1 1 1\n",
      " 1 1 1 1 1 1 1 1 1 1 1 1]\n",
      "[1 1 1 1 1 1 1 0 1 1 1 1 1 1 1 1 1 1 1 1 1 1 1 1 1 1 1 1 1 1 1 1 1 1 1 1 1\n",
      " 1 1 1 1 1 1 1 1 1 1 1 1]\n",
      "[1 1 1 1 1 1 1 1 0 1 1 1 1 1 1 1 1 1 1 1 1 1 1 1 1 1 1 1 1 1 1 1 1 1 1 1 1\n",
      " 1 1 1 1 1 1 1 1 1 1 1 1]\n",
      "[1 1 1 1 1 1 1 1 1 0 1 1 1 1 1 1 1 1 1 1 1 1 1 1 1 1 1 1 1 1 1 1 1 1 1 1 1\n",
      " 1 1 1 1 1 1 1 1 1 1 1 1]\n",
      "[1 1 1 1 1 1 1 1 1 1 0 1 1 1 1 1 1 1 1 1 1 1 1 1 1 1 1 1 1 1 1 1 1 1 1 1 1\n",
      " 1 1 1 1 1 1 1 1 1 1 1 1]\n",
      "[1 1 1 1 1 1 1 1 1 1 1 0 1 1 1 1 1 1 1 1 1 1 1 1 1 1 1 1 1 1 1 1 1 1 1 1 1\n",
      " 1 1 1 1 1 1 1 1 1 1 1 1]\n",
      "[1 1 1 1 1 1 1 1 1 1 1 1 0 1 1 1 1 1 1 1 1 1 1 1 1 1 1 1 1 1 1 1 1 1 1 1 1\n",
      " 1 1 1 1 1 1 1 1 1 1 1 1]\n",
      "[1 1 1 1 1 1 1 1 1 1 1 1 1 0 1 1 1 1 1 1 1 1 1 1 1 1 1 1 1 1 1 1 1 1 1 1 1\n",
      " 1 1 1 1 1 1 1 1 1 1 1 1]\n",
      "[1 1 1 1 1 1 1 1 1 1 1 1 1 1 0 1 1 1 1 1 1 1 1 1 1 1 1 1 1 1 1 1 1 1 1 1 1\n",
      " 1 1 1 1 1 1 1 1 1 1 1 1]\n",
      "[1 1 1 1 1 1 1 1 1 1 1 1 1 1 1 0 1 1 1 1 1 1 1 1 1 1 1 1 1 1 1 1 1 1 1 1 1\n",
      " 1 1 1 1 1 1 1 1 1 1 1 1]\n",
      "[1 1 1 1 1 1 1 1 1 1 1 1 1 1 1 1 0 1 1 1 1 1 1 1 1 1 1 1 1 1 1 1 1 1 1 1 1\n",
      " 1 1 1 1 1 1 1 1 1 1 1 1]\n",
      "[1 1 1 1 1 1 1 1 1 1 1 1 1 1 1 1 1 0 1 1 1 1 1 1 1 1 1 1 1 1 1 1 1 1 1 1 1\n",
      " 1 1 1 1 1 1 1 1 1 1 1 1]\n",
      "[1 1 1 1 1 1 1 1 1 1 1 1 1 1 1 1 1 1 0 1 1 1 1 1 1 1 1 1 1 1 1 1 1 1 1 1 1\n",
      " 1 1 1 1 1 1 1 1 1 1 1 1]\n",
      "[1 1 1 1 1 1 1 1 1 1 1 1 1 1 1 1 1 1 1 0 1 1 1 1 1 1 1 1 1 1 1 1 1 1 1 1 1\n",
      " 1 1 1 1 1 1 1 1 1 1 1 1]\n",
      "[1 1 1 1 1 1 1 1 1 1 1 1 1 1 1 1 1 1 1 1 0 1 1 1 1 1 1 1 1 1 1 1 1 1 1 1 1\n",
      " 1 1 1 1 1 1 1 1 1 1 1 1]\n",
      "[1 1 1 1 1 1 1 1 1 1 1 1 1 1 1 1 1 1 1 1 1 0 1 1 1 1 1 1 1 1 1 1 1 1 1 1 1\n",
      " 1 1 1 1 1 1 1 1 1 1 1 1]\n",
      "[1 1 1 1 1 1 1 1 1 1 1 1 1 1 1 1 1 1 1 1 1 1 0 1 1 1 1 1 1 1 1 1 1 1 1 1 1\n",
      " 1 1 1 1 1 1 1 1 1 1 1 1]\n",
      "[1 1 1 1 1 1 1 1 1 1 1 1 1 1 1 1 1 1 1 1 1 1 1 0 1 1 1 1 1 1 1 1 1 1 1 1 1\n",
      " 1 1 1 1 1 1 1 1 1 1 1 1]\n",
      "[1 1 1 1 1 1 1 1 1 1 1 1 1 1 1 1 1 1 1 1 1 1 1 1 0 1 1 1 1 1 1 1 1 1 1 1 1\n",
      " 1 1 1 1 1 1 1 1 1 1 1 1]\n",
      "[1 1 1 1 1 1 1 1 1 1 1 1 1 1 1 1 1 1 1 1 1 1 1 1 1 0 1 1 1 1 1 1 1 1 1 1 1\n",
      " 1 1 1 1 1 1 1 1 1 1 1 1]\n",
      "[1 1 1 1 1 1 1 1 1 1 1 1 1 1 1 1 1 1 1 1 1 1 1 1 1 1 0 1 1 1 1 1 1 1 1 1 1\n",
      " 1 1 1 1 1 1 1 1 1 1 1 1]\n",
      "[1 1 1 1 1 1 1 1 1 1 1 1 1 1 1 1 1 1 1 1 1 1 1 1 1 1 1 0 1 1 1 1 1 1 1 1 1\n",
      " 1 1 1 1 1 1 1 1 1 1 1 1]\n",
      "[1 1 1 1 1 1 1 1 1 1 1 1 1 1 1 1 1 1 1 1 1 1 1 1 1 1 1 1 0 1 1 1 1 1 1 1 1\n",
      " 1 1 1 1 1 1 1 1 1 1 1 1]\n",
      "[1 1 1 1 1 1 1 1 1 1 1 1 1 1 1 1 1 1 1 1 1 1 1 1 1 1 1 1 1 0 1 1 1 1 1 1 1\n",
      " 1 1 1 1 1 1 1 1 1 1 1 1]\n",
      "[1 1 1 1 1 1 1 1 1 1 1 1 1 1 1 1 1 1 1 1 1 1 1 1 1 1 1 1 1 1 0 1 1 1 1 1 1\n",
      " 1 1 1 1 1 1 1 1 1 1 1 1]\n",
      "[1 1 1 1 1 1 1 1 1 1 1 1 1 1 1 1 1 1 1 1 1 1 1 1 1 1 1 1 1 1 1 0 1 1 1 1 1\n",
      " 1 1 1 1 1 1 1 1 1 1 1 1]\n",
      "[1 1 1 1 1 1 1 1 1 1 1 1 1 1 1 1 1 1 1 1 1 1 1 1 1 1 1 1 1 1 1 1 0 1 1 1 1\n",
      " 1 1 1 1 1 1 1 1 1 1 1 1]\n",
      "[1 1 1 1 1 1 1 1 1 1 1 1 1 1 1 1 1 1 1 1 1 1 1 1 1 1 1 1 1 1 1 1 1 0 1 1 1\n",
      " 1 1 1 1 1 1 1 1 1 1 1 1]\n",
      "[1 1 1 1 1 1 1 1 1 1 1 1 1 1 1 1 1 1 1 1 1 1 1 1 1 1 1 1 1 1 1 1 1 1 0 1 1\n",
      " 1 1 1 1 1 1 1 1 1 1 1 1]\n",
      "[1 1 1 1 1 1 1 1 1 1 1 1 1 1 1 1 1 1 1 1 1 1 1 1 1 1 1 1 1 1 1 1 1 1 1 0 1\n",
      " 1 1 1 1 1 1 1 1 1 1 1 1]\n",
      "[1 1 1 1 1 1 1 1 1 1 1 1 1 1 1 1 1 1 1 1 1 1 1 1 1 1 1 1 1 1 1 1 1 1 1 1 0\n",
      " 1 1 1 1 1 1 1 1 1 1 1 1]\n",
      "[1 1 1 1 1 1 1 1 1 1 1 1 1 1 1 1 1 1 1 1 1 1 1 1 1 1 1 1 1 1 1 1 1 1 1 1 1\n",
      " 0 1 1 1 1 1 1 1 1 1 1 1]\n",
      "[1 1 1 1 1 1 1 1 1 1 1 1 1 1 1 1 1 1 1 1 1 1 1 1 1 1 1 1 1 1 1 1 1 1 1 1 1\n",
      " 1 0 1 1 1 1 1 1 1 1 1 1]\n",
      "[1 1 1 1 1 1 1 1 1 1 1 1 1 1 1 1 1 1 1 1 1 1 1 1 1 1 1 1 1 1 1 1 1 1 1 1 1\n",
      " 1 1 0 1 1 1 1 1 1 1 1 1]\n",
      "[1 1 1 1 1 1 1 1 1 1 1 1 1 1 1 1 1 1 1 1 1 1 1 1 1 1 1 1 1 1 1 1 1 1 1 1 1\n",
      " 1 1 1 0 1 1 1 1 1 1 1 1]\n",
      "[1 1 1 1 1 1 1 1 1 1 1 1 1 1 1 1 1 1 1 1 1 1 1 1 1 1 1 1 1 1 1 1 1 1 1 1 1\n",
      " 1 1 1 1 0 1 1 1 1 1 1 1]\n",
      "[1 1 1 1 1 1 1 1 1 1 1 1 1 1 1 1 1 1 1 1 1 1 1 1 1 1 1 1 1 1 1 1 1 1 1 1 1\n",
      " 1 1 1 1 1 0 1 1 1 1 1 1]\n",
      "[1 1 1 1 1 1 1 1 1 1 1 1 1 1 1 1 1 1 1 1 1 1 1 1 1 1 1 1 1 1 1 1 1 1 1 1 1\n",
      " 1 1 1 1 1 1 0 1 1 1 1 1]\n",
      "[1 1 1 1 1 1 1 1 1 1 1 1 1 1 1 1 1 1 1 1 1 1 1 1 1 1 1 1 1 1 1 1 1 1 1 1 1\n",
      " 1 1 1 1 1 1 1 0 1 1 1 1]\n",
      "[1 1 1 1 1 1 1 1 1 1 1 1 1 1 1 1 1 1 1 1 1 1 1 1 1 1 1 1 1 1 1 1 1 1 1 1 1\n",
      " 1 1 1 1 1 1 1 1 0 1 1 1]\n",
      "[1 1 1 1 1 1 1 1 1 1 1 1 1 1 1 1 1 1 1 1 1 1 1 1 1 1 1 1 1 1 1 1 1 1 1 1 1\n",
      " 1 1 1 1 1 1 1 1 1 0 1 1]\n",
      "[1 1 1 1 1 1 1 1 1 1 1 1 1 1 1 1 1 1 1 1 1 1 1 1 1 1 1 1 1 1 1 1 1 1 1 1 1\n",
      " 1 1 1 1 1 1 1 1 1 1 0 1]\n",
      "[1 1 1 1 1 1 1 1 1 1 1 1 1 1 1 1 1 1 1 1 1 1 1 1 1 1 1 1 1 1 1 1 1 1 1 1 1\n",
      " 1 1 1 1 1 1 1 1 1 1 1 0]\n"
     ]
    }
   ],
   "source": [
    "phi_init = np.random.uniform(-init_range, init_range, size=(num_colors,))\n",
    "color_blocks, phi_history, curr_phi = graph_painter(color_adj1, phi_init)\n",
    "color_indice_array, num_colors = get_color_indice_array(color_blocks, color_adj1)\n",
    "color_adj2 = get_color_adj_graph(color_indice_array, color_adj1, num_colors)\n",
    "print(\"num_colors: \", num_colors)\n",
    "print(\"Density of the original graph: \", density(color_adj1))\n",
    "print(\"Density of the colored graph: \", density(color_adj2))\n",
    "# Print the color adj fully in a readable format\n",
    "print(\"Color adjacency matrix: \")\n",
    "for i in range(color_adj2.shape[0]):\n",
    "    print(color_adj2[i])"
   ]
  },
  {
   "cell_type": "code",
   "execution_count": 368,
   "metadata": {},
   "outputs": [
    {
     "data": {
      "text/plain": [
       "array([3, 1, 4, 2, 0])"
      ]
     },
     "execution_count": 368,
     "metadata": {},
     "output_type": "execute_result"
    }
   ],
   "source": [
    "phases_ordered"
   ]
  },
  {
   "cell_type": "code",
   "execution_count": 369,
   "metadata": {},
   "outputs": [
    {
     "data": {
      "text/plain": [
       "array([ 1.        ,  0.3090151 , -0.80901722, -0.80901641,  0.30901853])"
      ]
     },
     "execution_count": 369,
     "metadata": {},
     "output_type": "execute_result"
    }
   ],
   "source": [
    "np.cos(phases_scaled[phases_ordered]*np.pi)"
   ]
  },
  {
   "cell_type": "code",
   "execution_count": null,
   "metadata": {},
   "outputs": [],
   "source": []
  },
  {
   "cell_type": "code",
   "execution_count": 371,
   "metadata": {},
   "outputs": [
    {
     "name": "stdout",
     "output_type": "stream",
     "text": [
      "-7.5\n",
      "-9.045084971873205\n"
     ]
    }
   ],
   "source": [
    "print(loss(phi_history)[0])\n",
    "print(loss([phi_end])[0])"
   ]
  },
  {
   "cell_type": "code",
   "execution_count": 267,
   "metadata": {},
   "outputs": [],
   "source": [
    "# # read dsjc500.5.mat\n",
    "# G = mat_to_graph('test_graphs/queen55.mat')\n",
    "# adj = nx.adjacency_matrix(G).toarray()\n",
    "# adj = np.asarray(adj, dtype=np.int32)\n",
    "adj = gen_cyclic_graph(20)\n",
    "G = nx.from_numpy_array(adj)\n",
    "color_blocks, phi_history, phi_end = graph_painter(adj)\n"
   ]
  },
  {
   "cell_type": "code",
   "execution_count": 268,
   "metadata": {},
   "outputs": [
    {
     "name": "stdout",
     "output_type": "stream",
     "text": [
      "Num Colors:  3\n"
     ]
    },
    {
     "data": {
      "image/png": "[encoded data removed]",
      "text/plain": [
       "<Figure size 640x480 with 1 Axes>"
      ]
     },
     "metadata": {},
     "output_type": "display_data"
    }
   ],
   "source": [
    "num_colors = len(color_blocks)\n",
    "print(\"Num Colors: \", num_colors)\n",
    "# Plot the histogram of number of colors\n",
    "color_hist = []\n",
    "for color_block in color_blocks:\n",
    "    color_hist.append(len(color_block))\n",
    "plt.hist(color_hist)\n",
    "plt.title(\"Histogram of Number of Nodes in Color Blocks\")\n",
    "plt.show()"
   ]
  },
  {
   "cell_type": "code",
   "execution_count": 269,
   "metadata": {},
   "outputs": [
    {
     "name": "stdout",
     "output_type": "stream",
     "text": [
      "[9, 8, 3]\n"
     ]
    }
   ],
   "source": [
    "print(color_hist)"
   ]
  },
  {
   "cell_type": "code",
   "execution_count": 187,
   "metadata": {},
   "outputs": [
    {
     "data": {
      "image/png": "[encoded data removed]",
      "text/plain": [
       "<Figure size 500x500 with 1 Axes>"
      ]
     },
     "metadata": {},
     "output_type": "display_data"
    }
   ],
   "source": [
    "plt.figure(figsize=(5, 5))\n",
    "plt.plot(phi_history[:,20])\n",
    "plt.title(\"Phi History\")\n",
    "# plt.legend([i for i in range(phi_history.shape[1])])\n",
    "plt.show()"
   ]
  },
  {
   "cell_type": "code",
   "execution_count": 123,
   "metadata": {},
   "outputs": [
    {
     "ename": "ValueError",
     "evalue": "too many values to unpack (expected 2)",
     "output_type": "error",
     "traceback": [
      "\u001b[0;31m---------------------------------------------------------------------------\u001b[0m",
      "\u001b[0;31mValueError\u001b[0m                                Traceback (most recent call last)",
      "Cell \u001b[0;32mIn[123], line 5\u001b[0m\n\u001b[1;32m      3\u001b[0m \u001b[38;5;28miter\u001b[39m \u001b[38;5;241m=\u001b[39m \u001b[38;5;241m1\u001b[39m\n\u001b[1;32m      4\u001b[0m \u001b[38;5;28;01mwhile\u001b[39;00m num_colors \u001b[38;5;241m!=\u001b[39m \u001b[38;5;241m4\u001b[39m:\n\u001b[0;32m----> 5\u001b[0m     color_blocks, phi_history \u001b[38;5;241m=\u001b[39m graph_painter(adj)\n\u001b[1;32m      6\u001b[0m     num_colors \u001b[38;5;241m=\u001b[39m \u001b[38;5;28mlen\u001b[39m(color_blocks)\n\u001b[1;32m      7\u001b[0m     \u001b[38;5;28mprint\u001b[39m(\u001b[38;5;124m\"\u001b[39m\u001b[38;5;124mIteration: \u001b[39m\u001b[38;5;124m\"\u001b[39m, \u001b[38;5;28miter\u001b[39m, \u001b[38;5;124m\"\u001b[39m\u001b[38;5;124m Num Colors: \u001b[39m\u001b[38;5;124m\"\u001b[39m, num_colors)\n",
      "\u001b[0;31mValueError\u001b[0m: too many values to unpack (expected 2)"
     ]
    }
   ],
   "source": [
    "num_colors = 3\n",
    "# color the graph\n",
    "iter = 1\n",
    "while num_colors != 4:\n",
    "    color_blocks, phi_history = graph_painter(adj)\n",
    "    num_colors = len(color_blocks)\n",
    "    print(\"Iteration: \", iter, \" Num Colors: \", num_colors)\n",
    "    iter += 1\n",
    "\n",
    "\n",
    "# print(\"color blocks: \", color_blocks)\n",
    "# print(\"Num Colors: \", len(color_blocks))\n",
    "color_indice_array, num_colors = get_color_indice_array(color_blocks, adj)\n",
    "# Plot with colors and plot the phi_history in the same plot in same row, give more space to 2nd plot\n",
    "plt.figure(figsize=(15, 5))\n",
    "plt.subplot(1, 2, 1)\n",
    "nx.draw(G, with_labels=True, node_color=color_indice_array, cmap=plt.cm.rainbow, node_size=500)\n",
    "plt.title(\"Colored Graph\")\n",
    "plt.subplot(1, 2, 2)\n",
    "plt.plot(phi_history)\n",
    "plt.title(\"Phi History\")\n",
    "plt.legend([0, 1, 2, 3])\n",
    "plt.show()\n"
   ]
  },
  {
   "cell_type": "code",
   "execution_count": null,
   "metadata": {},
   "outputs": [],
   "source": []
  },
  {
   "cell_type": "code",
   "execution_count": null,
   "metadata": {},
   "outputs": [],
   "source": []
  },
  {
   "cell_type": "code",
   "execution_count": 14,
   "metadata": {},
   "outputs": [
    {
     "name": "stderr",
     "output_type": "stream",
     "text": [
      "/tmp/ipykernel_17599/2834370043.py:3: FutureWarning: adjacency_matrix will return a scipy.sparse array instead of a matrix in Networkx 3.0.\n",
      "  adj = nx.adjacency_matrix(G).toarray()\n"
     ]
    },
    {
     "name": "stdout",
     "output_type": "stream",
     "text": [
      "community:  1 size:  48\n",
      "community:  2 size:  46\n",
      "community:  3 size:  51\n",
      "community:  4 size:  52\n",
      "community:  5 size:  53\n"
     ]
    },
    {
     "name": "stderr",
     "output_type": "stream",
     "text": [
      "/tmp/ipykernel_17599/3019626940.py:25: FutureWarning: adjacency_matrix will return a scipy.sparse array instead of a matrix in Networkx 3.0.\n",
      "  adj_temp = nx.adjacency_matrix(temp_subgraph).toarray()\n"
     ]
    }
   ],
   "source": [
    "# read queen7_7 graph\n",
    "G = mat_to_graph('test_graphs/dsjc250.5.mat')\n",
    "adj = nx.adjacency_matrix(G).toarray()\n",
    "\n"
   ]
  },
  {
   "cell_type": "code",
   "execution_count": null,
   "metadata": {},
   "outputs": [
    {
     "name": "stdout",
     "output_type": "stream",
     "text": [
      "community:  1 size:  38\n",
      "community:  2 size:  39\n",
      "community:  3 size:  34\n"
     ]
    },
    {
     "name": "stderr",
     "output_type": "stream",
     "text": [
      "/tmp/ipykernel_17599/3019626940.py:25: FutureWarning: adjacency_matrix will return a scipy.sparse array instead of a matrix in Networkx 3.0.\n",
      "  adj_temp = nx.adjacency_matrix(temp_subgraph).toarray()\n"
     ]
    }
   ],
   "source": [
    "adj_color2, call_level2 = graph_coloring_louvain_single_level(adj_color, 1.0, call_level+1)\n",
    "print(adj_color2.shape)\n",
    "print(density(adj_color2))"
   ]
  },
  {
   "cell_type": "code",
   "execution_count": 30,
   "metadata": {},
   "outputs": [
    {
     "name": "stdout",
     "output_type": "stream",
     "text": [
      "community:  1 size:  41\n",
      "community:  2 size:  46\n"
     ]
    },
    {
     "name": "stderr",
     "output_type": "stream",
     "text": [
      "/tmp/ipykernel_17599/3019626940.py:25: FutureWarning: adjacency_matrix will return a scipy.sparse array instead of a matrix in Networkx 3.0.\n",
      "  adj_temp = nx.adjacency_matrix(temp_subgraph).toarray()\n"
     ]
    },
    {
     "name": "stdout",
     "output_type": "stream",
     "text": [
      "(82, 82)\n",
      "0.991869918699187\n"
     ]
    }
   ],
   "source": [
    "adj_color3, call_level3 = graph_coloring_louvain_single_level(adj_color2, 1.002, call_level2+1)\n",
    "print(adj_color3.shape)\n",
    "print(density(adj_color3))"
   ]
  },
  {
   "cell_type": "code",
   "execution_count": null,
   "metadata": {},
   "outputs": [],
   "source": []
  },
  {
   "cell_type": "code",
   "execution_count": 35,
   "metadata": {},
   "outputs": [],
   "source": [
    "from networkx.algorithms.community import greedy_modularity_communities\n",
    "\n",
    "def graph_coloring_greedy_single_level(adj,resolution,call_level):\n",
    "    adj = np.asarray(adj, dtype=np.int32)\n",
    "    G = nx.from_numpy_array(adj)\n",
    "    partition = greedy_modularity_communities(G, resolution=resolution)\n",
    "    # Partition consists of list of frozen sets\n",
    "    partition = {node: i for i, comm in enumerate(partition) for node in comm}\n",
    "    pos = {}\n",
    "    communities = {}\n",
    "    colors = {}\n",
    "    num_colors_array = []\n",
    "    node_wise_colors = {}\n",
    "    map_indices_array = []\n",
    "    values = [partition.get(node) for node in G.nodes()]\n",
    "    colors_offset = 0\n",
    "\n",
    "    for node, comm in partition.items():\n",
    "        communities.setdefault(comm, []).append(node)\n",
    "\n",
    "    # print the sizes of the communities\n",
    "    for i, (comm, nodes) in enumerate(communities.items()):\n",
    "        print(\"community: \", i+1, \"size: \", len(nodes))\n",
    "\n",
    "    for i, (comm, nodes) in enumerate(communities.items()):\n",
    "        map_indice_temp = {}\n",
    "        map_indices_array.append(map_indice_temp)\n",
    "        temp_subgraph = G.subgraph(nodes)\n",
    "        adj_temp = nx.adjacency_matrix(temp_subgraph).toarray()\n",
    "        adj_temp = np.asarray(adj_temp, dtype=np.int32)\n",
    "\n",
    "        for i, sub_node in enumerate(temp_subgraph.nodes()):\n",
    "            map_indice_temp[sub_node] = i\n",
    "\n",
    "        density = np.sum(adj_temp) / (adj_temp.shape[0] * (adj_temp.shape[0] - 1))\n",
    "        color_blocks = graph_painter(adj_temp)\n",
    "        color_indice_array, num_colors = get_color_indice_array(color_blocks, adj_temp)\n",
    "        colors[i] = color_indice_array\n",
    "        \n",
    "        for node in nodes:\n",
    "            node_wise_colors[node] = color_indice_array[map_indice_temp[node]] + colors_offset\n",
    "        colors_offset += num_colors\n",
    "        num_colors_array.append(num_colors)\n",
    "  \n",
    "    total_colors = sum(num_colors_array)\n",
    "    adj_color = np.zeros((total_colors, total_colors), dtype=np.int32)\n",
    "    for i in range(adj.shape[0]):\n",
    "        for j in range(adj.shape[1]):\n",
    "            if(adj[i][j] == 1):\n",
    "                adj_color[node_wise_colors[i]][node_wise_colors[j]] = 1\n",
    "    \n",
    "    return adj_color, call_level"
   ]
  },
  {
   "cell_type": "code",
   "execution_count": 39,
   "metadata": {},
   "outputs": [
    {
     "name": "stderr",
     "output_type": "stream",
     "text": [
      "/tmp/ipykernel_17599/3900167169.py:2: FutureWarning: adjacency_matrix will return a scipy.sparse array instead of a matrix in Networkx 3.0.\n",
      "  adj = nx.adjacency_matrix(G).toarray()\n"
     ]
    },
    {
     "name": "stdout",
     "output_type": "stream",
     "text": [
      "community:  1 size:  117\n",
      "community:  2 size:  115\n",
      "community:  3 size:  18\n"
     ]
    },
    {
     "name": "stderr",
     "output_type": "stream",
     "text": [
      "/tmp/ipykernel_17599/1621547714.py:29: FutureWarning: adjacency_matrix will return a scipy.sparse array instead of a matrix in Networkx 3.0.\n",
      "  adj_temp = nx.adjacency_matrix(temp_subgraph).toarray()\n"
     ]
    },
    {
     "ename": "KeyboardInterrupt",
     "evalue": "",
     "output_type": "error",
     "traceback": [
      "\u001b[0;31m---------------------------------------------------------------------------\u001b[0m",
      "\u001b[0;31mKeyboardInterrupt\u001b[0m                         Traceback (most recent call last)",
      "Cell \u001b[0;32mIn[39], line 4\u001b[0m\n\u001b[1;32m      2\u001b[0m adj \u001b[38;5;241m=\u001b[39m nx\u001b[38;5;241m.\u001b[39madjacency_matrix(G)\u001b[38;5;241m.\u001b[39mtoarray()\n\u001b[1;32m      3\u001b[0m adj \u001b[38;5;241m=\u001b[39m np\u001b[38;5;241m.\u001b[39masarray(adj, dtype\u001b[38;5;241m=\u001b[39mnp\u001b[38;5;241m.\u001b[39mint32)\n\u001b[0;32m----> 4\u001b[0m adj_color, call_level \u001b[38;5;241m=\u001b[39m \u001b[43mgraph_coloring_greedy_single_level\u001b[49m\u001b[43m(\u001b[49m\u001b[43madj\u001b[49m\u001b[43m,\u001b[49m\u001b[43m \u001b[49m\u001b[38;5;241;43m10\u001b[39;49m\u001b[43m,\u001b[49m\u001b[43m \u001b[49m\u001b[38;5;241;43m0\u001b[39;49m\u001b[43m)\u001b[49m\n\u001b[1;32m      5\u001b[0m \u001b[38;5;28mprint\u001b[39m(adj_color\u001b[38;5;241m.\u001b[39mshape)\n\u001b[1;32m      6\u001b[0m \u001b[38;5;28mprint\u001b[39m(density(adj_color))\n",
      "Cell \u001b[0;32mIn[35], line 36\u001b[0m, in \u001b[0;36mgraph_coloring_greedy_single_level\u001b[0;34m(adj, resolution, call_level)\u001b[0m\n\u001b[1;32m     33\u001b[0m     map_indice_temp[sub_node] \u001b[38;5;241m=\u001b[39m i\n\u001b[1;32m     35\u001b[0m density \u001b[38;5;241m=\u001b[39m np\u001b[38;5;241m.\u001b[39msum(adj_temp) \u001b[38;5;241m/\u001b[39m (adj_temp\u001b[38;5;241m.\u001b[39mshape[\u001b[38;5;241m0\u001b[39m] \u001b[38;5;241m*\u001b[39m (adj_temp\u001b[38;5;241m.\u001b[39mshape[\u001b[38;5;241m0\u001b[39m] \u001b[38;5;241m-\u001b[39m \u001b[38;5;241m1\u001b[39m))\n\u001b[0;32m---> 36\u001b[0m color_blocks \u001b[38;5;241m=\u001b[39m \u001b[43mgraph_painter\u001b[49m\u001b[43m(\u001b[49m\u001b[43madj_temp\u001b[49m\u001b[43m)\u001b[49m\n\u001b[1;32m     37\u001b[0m color_indice_array, num_colors \u001b[38;5;241m=\u001b[39m get_color_indice_array(color_blocks, adj_temp)\n\u001b[1;32m     38\u001b[0m colors[i] \u001b[38;5;241m=\u001b[39m color_indice_array\n",
      "Cell \u001b[0;32mIn[7], line 45\u001b[0m, in \u001b[0;36mgraph_painter\u001b[0;34m(adj)\u001b[0m\n\u001b[1;32m     42\u001b[0m connections\u001b[38;5;241m.\u001b[39mC_sin_out\u001b[38;5;241m.\u001b[39mconnect(nodes\u001b[38;5;241m.\u001b[39mC_sin_in)\n\u001b[1;32m     43\u001b[0m phi_monitor\u001b[38;5;241m.\u001b[39mprobe(nodes\u001b[38;5;241m.\u001b[39mphi, num_steps)\n\u001b[0;32m---> 45\u001b[0m \u001b[43mnodes\u001b[49m\u001b[38;5;241;43m.\u001b[39;49m\u001b[43mrun\u001b[49m\u001b[43m(\u001b[49m\u001b[43mcondition\u001b[49m\u001b[38;5;241;43m=\u001b[39;49m\u001b[43mRunSteps\u001b[49m\u001b[43m(\u001b[49m\u001b[43mnum_steps\u001b[49m\u001b[38;5;241;43m=\u001b[39;49m\u001b[43mnum_steps\u001b[49m\u001b[43m)\u001b[49m\u001b[43m,\u001b[49m\u001b[43m \u001b[49m\u001b[43mrun_cfg\u001b[49m\u001b[38;5;241;43m=\u001b[39;49m\u001b[43mLoihi1SimCfg\u001b[49m\u001b[43m(\u001b[49m\u001b[43m)\u001b[49m\u001b[43m)\u001b[49m\n\u001b[1;32m     46\u001b[0m phi_vals \u001b[38;5;241m=\u001b[39m phi_monitor\u001b[38;5;241m.\u001b[39mget_data()\n\u001b[1;32m     47\u001b[0m nodes\u001b[38;5;241m.\u001b[39mstop()\n",
      "File \u001b[0;32m~/Desktop/Sem_9/DDP/Maxcut/.venv/lib/python3.10/site-packages/lava/magma/core/process/process.py:365\u001b[0m, in \u001b[0;36mAbstractProcess.run\u001b[0;34m(self, condition, run_cfg, compile_config)\u001b[0m\n\u001b[1;32m    361\u001b[0m         \u001b[38;5;28;01mraise\u001b[39;00m \u001b[38;5;167;01mValueError\u001b[39;00m(\u001b[38;5;124m\"\u001b[39m\u001b[38;5;124mrun_cfg must not be None when calling\u001b[39m\u001b[38;5;124m\"\u001b[39m\n\u001b[1;32m    362\u001b[0m                          \u001b[38;5;124m\"\u001b[39m\u001b[38;5;124m Process.run() unless the process has already\u001b[39m\u001b[38;5;124m\"\u001b[39m\n\u001b[1;32m    363\u001b[0m                          \u001b[38;5;124m\"\u001b[39m\u001b[38;5;124m been compiled.\u001b[39m\u001b[38;5;124m\"\u001b[39m)\n\u001b[1;32m    364\u001b[0m     \u001b[38;5;28mself\u001b[39m\u001b[38;5;241m.\u001b[39mcreate_runtime(run_cfg\u001b[38;5;241m=\u001b[39mrun_cfg, compile_config\u001b[38;5;241m=\u001b[39mcompile_config)\n\u001b[0;32m--> 365\u001b[0m \u001b[38;5;28;43mself\u001b[39;49m\u001b[38;5;241;43m.\u001b[39;49m\u001b[43m_runtime\u001b[49m\u001b[38;5;241;43m.\u001b[39;49m\u001b[43mstart\u001b[49m\u001b[43m(\u001b[49m\u001b[43mcondition\u001b[49m\u001b[43m)\u001b[49m\n",
      "File \u001b[0;32m~/Desktop/Sem_9/DDP/Maxcut/.venv/lib/python3.10/site-packages/lava/magma/runtime/runtime.py:420\u001b[0m, in \u001b[0;36mRuntime.start\u001b[0;34m(self, run_condition)\u001b[0m\n\u001b[1;32m    417\u001b[0m \u001b[38;5;28;01mif\u001b[39;00m \u001b[38;5;28mself\u001b[39m\u001b[38;5;241m.\u001b[39m_is_initialized:\n\u001b[1;32m    418\u001b[0m     \u001b[38;5;66;03m# Start running\u001b[39;00m\n\u001b[1;32m    419\u001b[0m     \u001b[38;5;28mself\u001b[39m\u001b[38;5;241m.\u001b[39m_is_started \u001b[38;5;241m=\u001b[39m \u001b[38;5;28;01mTrue\u001b[39;00m\n\u001b[0;32m--> 420\u001b[0m     \u001b[38;5;28;43mself\u001b[39;49m\u001b[38;5;241;43m.\u001b[39;49m\u001b[43m_run\u001b[49m\u001b[43m(\u001b[49m\u001b[43mrun_condition\u001b[49m\u001b[43m)\u001b[49m\n\u001b[1;32m    421\u001b[0m \u001b[38;5;28;01melse\u001b[39;00m:\n\u001b[1;32m    422\u001b[0m     \u001b[38;5;28mself\u001b[39m\u001b[38;5;241m.\u001b[39mlog\u001b[38;5;241m.\u001b[39minfo(\u001b[38;5;124m\"\u001b[39m\u001b[38;5;124mRuntime not initialized yet.\u001b[39m\u001b[38;5;124m\"\u001b[39m)\n",
      "File \u001b[0;32m~/Desktop/Sem_9/DDP/Maxcut/.venv/lib/python3.10/site-packages/lava/magma/runtime/runtime.py:438\u001b[0m, in \u001b[0;36mRuntime._run\u001b[0;34m(self, run_condition)\u001b[0m\n\u001b[1;32m    436\u001b[0m         send_port\u001b[38;5;241m.\u001b[39msend(enum_to_np(\u001b[38;5;28mself\u001b[39m\u001b[38;5;241m.\u001b[39mnum_steps))\n\u001b[1;32m    437\u001b[0m     \u001b[38;5;28;01mif\u001b[39;00m run_condition\u001b[38;5;241m.\u001b[39mblocking:\n\u001b[0;32m--> 438\u001b[0m         \u001b[38;5;28;43mself\u001b[39;49m\u001b[38;5;241;43m.\u001b[39;49m\u001b[43m_get_resp_for_run\u001b[49m\u001b[43m(\u001b[49m\u001b[43m)\u001b[49m\n\u001b[1;32m    439\u001b[0m \u001b[38;5;28;01melif\u001b[39;00m \u001b[38;5;28misinstance\u001b[39m(run_condition, RunContinuous):\n\u001b[1;32m    440\u001b[0m     \u001b[38;5;28mself\u001b[39m\u001b[38;5;241m.\u001b[39mnum_steps \u001b[38;5;241m=\u001b[39m sys\u001b[38;5;241m.\u001b[39mmaxsize\n",
      "File \u001b[0;32m~/Desktop/Sem_9/DDP/Maxcut/.venv/lib/python3.10/site-packages/lava/magma/runtime/runtime.py:381\u001b[0m, in \u001b[0;36mRuntime._get_resp_for_run\u001b[0;34m(self)\u001b[0m\n\u001b[1;32m    379\u001b[0m rsps \u001b[38;5;241m=\u001b[39m []\n\u001b[1;32m    380\u001b[0m \u001b[38;5;28;01mwhile\u001b[39;00m \u001b[38;5;28;01mTrue\u001b[39;00m:\n\u001b[0;32m--> 381\u001b[0m     recv_port \u001b[38;5;241m=\u001b[39m \u001b[43mselector\u001b[49m\u001b[38;5;241;43m.\u001b[39;49m\u001b[43mselect\u001b[49m\u001b[43m(\u001b[49m\u001b[38;5;241;43m*\u001b[39;49m\u001b[43mchannel_actions\u001b[49m\u001b[43m)\u001b[49m\n\u001b[1;32m    382\u001b[0m     data \u001b[38;5;241m=\u001b[39m recv_port\u001b[38;5;241m.\u001b[39mrecv()\n\u001b[1;32m    383\u001b[0m     rsps\u001b[38;5;241m.\u001b[39mappend(data)\n",
      "File \u001b[0;32m~/Desktop/Sem_9/DDP/Maxcut/.venv/lib/python3.10/site-packages/lava/magma/compiler/channels/pypychannel.py:352\u001b[0m, in \u001b[0;36mCspSelector.select\u001b[0;34m(self, *channel_actions)\u001b[0m\n\u001b[1;32m    350\u001b[0m         \u001b[38;5;28mself\u001b[39m\u001b[38;5;241m.\u001b[39m_set_observer(channel_actions, \u001b[38;5;28;01mNone\u001b[39;00m)\n\u001b[1;32m    351\u001b[0m         \u001b[38;5;28;01mreturn\u001b[39;00m action()\n\u001b[0;32m--> 352\u001b[0m \u001b[38;5;28;43mself\u001b[39;49m\u001b[38;5;241;43m.\u001b[39;49m\u001b[43m_cv\u001b[49m\u001b[38;5;241;43m.\u001b[39;49m\u001b[43mwait\u001b[49m\u001b[43m(\u001b[49m\u001b[43m)\u001b[49m\n",
      "File \u001b[0;32m/usr/lib/python3.10/threading.py:320\u001b[0m, in \u001b[0;36mCondition.wait\u001b[0;34m(self, timeout)\u001b[0m\n\u001b[1;32m    318\u001b[0m \u001b[38;5;28;01mtry\u001b[39;00m:    \u001b[38;5;66;03m# restore state no matter what (e.g., KeyboardInterrupt)\u001b[39;00m\n\u001b[1;32m    319\u001b[0m     \u001b[38;5;28;01mif\u001b[39;00m timeout \u001b[38;5;129;01mis\u001b[39;00m \u001b[38;5;28;01mNone\u001b[39;00m:\n\u001b[0;32m--> 320\u001b[0m         \u001b[43mwaiter\u001b[49m\u001b[38;5;241;43m.\u001b[39;49m\u001b[43macquire\u001b[49m\u001b[43m(\u001b[49m\u001b[43m)\u001b[49m\n\u001b[1;32m    321\u001b[0m         gotit \u001b[38;5;241m=\u001b[39m \u001b[38;5;28;01mTrue\u001b[39;00m\n\u001b[1;32m    322\u001b[0m     \u001b[38;5;28;01melse\u001b[39;00m:\n",
      "\u001b[0;31mKeyboardInterrupt\u001b[0m: "
     ]
    }
   ],
   "source": [
    "G = mat_to_graph('test_graphs/dsjc250.5.mat')\n",
    "adj = nx.adjacency_matrix(G).toarray()\n",
    "adj = np.asarray(adj, dtype=np.int32)\n",
    "adj_color, call_level = graph_coloring_greedy_single_level(adj, 10, 0)\n",
    "print(adj_color.shape)\n",
    "print(density(adj_color))"
   ]
  },
  {
   "cell_type": "code",
   "execution_count": 37,
   "metadata": {},
   "outputs": [
    {
     "name": "stdout",
     "output_type": "stream",
     "text": [
      "(123, 123)\n",
      "0.868452618952419\n"
     ]
    }
   ],
   "source": []
  },
  {
   "cell_type": "code",
   "execution_count": null,
   "metadata": {},
   "outputs": [],
   "source": []
  },
  {
   "cell_type": "markdown",
   "metadata": {},
   "source": []
  },
  {
   "cell_type": "code",
   "execution_count": 13,
   "metadata": {},
   "outputs": [
    {
     "ename": "ImportError",
     "evalue": "cannot import name 'interchange' from 'networkx.algorithms.coloring.greedy_coloring' (/home/kunal/Desktop/Sem_9/DDP/Maxcut/.venv/lib/python3.10/site-packages/networkx/algorithms/coloring/greedy_coloring.py)",
     "output_type": "error",
     "traceback": [
      "\u001b[0;31m---------------------------------------------------------------------------\u001b[0m",
      "\u001b[0;31mImportError\u001b[0m                               Traceback (most recent call last)",
      "Cell \u001b[0;32mIn[13], line 3\u001b[0m\n\u001b[1;32m      1\u001b[0m \u001b[38;5;28;01mimport\u001b[39;00m\u001b[38;5;250m \u001b[39m\u001b[38;5;21;01mnetworkx\u001b[39;00m\u001b[38;5;250m \u001b[39m\u001b[38;5;28;01mas\u001b[39;00m\u001b[38;5;250m \u001b[39m\u001b[38;5;21;01mnx\u001b[39;00m\n\u001b[1;32m      2\u001b[0m \u001b[38;5;28;01mimport\u001b[39;00m\u001b[38;5;250m \u001b[39m\u001b[38;5;21;01mnumpy\u001b[39;00m\u001b[38;5;250m \u001b[39m\u001b[38;5;28;01mas\u001b[39;00m\u001b[38;5;250m \u001b[39m\u001b[38;5;21;01mnp\u001b[39;00m\n\u001b[0;32m----> 3\u001b[0m \u001b[38;5;28;01mfrom\u001b[39;00m\u001b[38;5;250m \u001b[39m\u001b[38;5;21;01mnetworkx\u001b[39;00m\u001b[38;5;21;01m.\u001b[39;00m\u001b[38;5;21;01malgorithms\u001b[39;00m\u001b[38;5;21;01m.\u001b[39;00m\u001b[38;5;21;01mcoloring\u001b[39;00m\u001b[38;5;21;01m.\u001b[39;00m\u001b[38;5;21;01mgreedy_coloring\u001b[39;00m\u001b[38;5;250m \u001b[39m\u001b[38;5;28;01mimport\u001b[39;00m interchange\n\u001b[1;32m      5\u001b[0m \u001b[38;5;66;03m# Example custom graph coloring function (replace this with your actual function)\u001b[39;00m\n\u001b[1;32m      6\u001b[0m \u001b[38;5;28;01mdef\u001b[39;00m\u001b[38;5;250m \u001b[39m\u001b[38;5;21mcustom_graph_coloring\u001b[39m(adj_matrix):\n",
      "\u001b[0;31mImportError\u001b[0m: cannot import name 'interchange' from 'networkx.algorithms.coloring.greedy_coloring' (/home/kunal/Desktop/Sem_9/DDP/Maxcut/.venv/lib/python3.10/site-packages/networkx/algorithms/coloring/greedy_coloring.py)"
     ]
    }
   ],
   "source": [
    "import networkx as nx\n",
    "import numpy as np\n",
    "from networkx.algorithms.coloring.greedy_coloring import interchange\n",
    "\n",
    "# Example custom graph coloring function (replace this with your actual function)\n",
    "def custom_graph_coloring(adj_matrix):\n",
    "    \"\"\"Your custom coloring algorithm that returns color blocks.\"\"\"\n",
    "    # Dummy implementation: assign each node a separate color\n",
    "    return [[i] for i in range(len(adj_matrix))]\n",
    "\n",
    "# Convert color blocks to a color mapping\n",
    "def color_blocks_to_mapping(color_blocks):\n",
    "    \"\"\"Convert color blocks (list of lists) into a node-color mapping.\"\"\"\n",
    "    node_color_mapping = {}\n",
    "    for color, nodes in enumerate(color_blocks):\n",
    "        for node in nodes:\n",
    "            node_color_mapping[node] = color\n",
    "    return node_color_mapping\n",
    "\n",
    "# Example graph\n",
    "G = mat_to_graph('test_graphs/dsjc500.5.mat')\n",
    "adj_matrix = nx.adjacency_matrix(G).toarray()\n",
    "\n",
    "# Step 1: Use your custom coloring algorithm\n",
    "color_blocks = custom_graph_coloring(adj_matrix)\n",
    "\n",
    "# Step 2: Convert color blocks to a mapping\n",
    "node_color_mapping = color_blocks_to_mapping(color_blocks)\n",
    "\n",
    "# Step 3: Apply interchange algorithm to refine the coloring\n",
    "optimized_coloring = interchange(G, node_color_mapping)\n",
    "\n",
    "# Step 4: Print the final coloring\n",
    "print(\"Initial Coloring:\", node_color_mapping)\n",
    "print(\"Optimized Coloring:\", optimized_coloring)\n"
   ]
  },
  {
   "cell_type": "code",
   "execution_count": null,
   "metadata": {},
   "outputs": [],
   "source": []
  },
  {
   "cell_type": "code",
   "execution_count": 7,
   "metadata": {},
   "outputs": [],
   "source": [
    "import cProfile, pstats, io\n",
    "from pstats import SortKey\n",
    "pr = cProfile.Profile()\n",
    "pr.enable()\n",
    "\n",
    "\n",
    "thresholds = [20,30,50,100]\n",
    "# This attempt uses simple merging without any optimization\n",
    "def graph_coloring1(adj, threshold=1000000):\n",
    "    if adj.shape[0] <= threshold:\n",
    "        return graph_painter(adj)\n",
    "    else:\n",
    "        adj1, adj0, cut, map_index1, map_index0, reverse_map = moe_maxcut(adj)\n",
    "        colors1 = graph_coloring1(adj1)\n",
    "        colors0 = graph_coloring1(adj0)\n",
    "        colors_merged = []\n",
    "        for color_block in colors1:\n",
    "            temp_list = []\n",
    "            for node in color_block:\n",
    "                temp_list.append(map_index1[node])\n",
    "            colors_merged.append(temp_list)\n",
    "        \n",
    "        for color_block in colors0:\n",
    "            temp_list = []\n",
    "            for node in color_block:\n",
    "                temp_list.append(map_index0[node])\n",
    "            colors_merged.append(temp_list)\n",
    "\n",
    "    return colors_merged        "
   ]
  },
  {
   "cell_type": "code",
   "execution_count": 8,
   "metadata": {},
   "outputs": [],
   "source": [
    "def graph_coloring_multi_levels(adj, thresholds):\n",
    "    num_nodes = adj.shape[0]\n",
    "    num_edges = np.sum(adj)/2\n",
    "    density = 2*num_edges/(num_nodes*(num_nodes-1))\n",
    "    print(\"Density: \", density)\n",
    "    if density == 1:\n",
    "        print(\"The graph is a complete graph with number of nodes: \", num_nodes)\n",
    "        return\n",
    "        \n",
    "\n",
    "    for threshold in thresholds:\n",
    "        print(\"Threshold: \", threshold)\n",
    "        colors = graph_coloring1(adj, threshold)\n",
    "        cnt = 0\n",
    "        for color in colors:\n",
    "            cnt += len(color)\n",
    "        print(\"Number of nodes colored: \", cnt)\n",
    "        print(\"Number of colors used: \", len(colors))\n",
    "\n",
    "        color_array, num_colors = get_color_indice_array(colors, adj)\n",
    "        # print(color_array)\n",
    "\n",
    "        # Optimization 1: Merge the color blocks with the same color\n",
    "        adj_opt1 = np.zeros((num_colors, num_colors))\n",
    "        for i in range (adj.shape[0]):\n",
    "            for j in range (adj.shape[0]):\n",
    "                if adj[i, j] == 1:\n",
    "                    adj_opt1[color_array[i], color_array[j]] = 1\n",
    "                    adj_opt1[color_array[j], color_array[i]] = 1\n",
    "\n",
    "        \n",
    "        graph_coloring_multi_levels(adj_opt1, thresholds)\n",
    "\n",
    "        "
   ]
  },
  {
   "cell_type": "code",
   "execution_count": 19,
   "metadata": {},
   "outputs": [
    {
     "name": "stdout",
     "output_type": "stream",
     "text": [
      "Graph:  dsjc1000.1\n",
      "Number of nodes:  1000\n",
      "Number of edges:  49629.0\n",
      "Density:  0.09935735735735736\n",
      "Threshold:  40\n",
      "minimum order-based chromatic number during simulation:  100\n",
      "minimum order-based chromatic number during simulation:  103\n",
      "Number of nodes colored:  1000\n",
      "Number of colors used:  224\n",
      "Threshold:  40\n",
      "minimum order-based chromatic number during simulation:  79\n",
      "minimum order-based chromatic number during simulation:  64\n",
      "Number of nodes colored:  224\n",
      "Number of colors used:  164\n",
      "Threshold:  40\n",
      "minimum order-based chromatic number during simulation:  67\n",
      "minimum order-based chromatic number during simulation:  56\n",
      "Number of nodes colored:  164\n",
      "Number of colors used:  135\n",
      "Threshold:  40\n",
      "minimum order-based chromatic number during simulation:  65\n",
      "minimum order-based chromatic number during simulation:  46\n",
      "Number of nodes colored:  135\n",
      "Number of colors used:  121\n",
      "Threshold:  40\n",
      "minimum order-based chromatic number during simulation:  60\n",
      "minimum order-based chromatic number during simulation:  45\n",
      "Number of nodes colored:  121\n",
      "Number of colors used:  112\n",
      "Threshold:  40\n",
      "minimum order-based chromatic number during simulation:  56\n",
      "minimum order-based chromatic number during simulation:  46\n",
      "Number of nodes colored:  112\n",
      "Number of colors used:  104\n",
      "Threshold:  40\n",
      "minimum order-based chromatic number during simulation:  52\n",
      "minimum order-based chromatic number during simulation:  48\n",
      "Number of nodes colored:  104\n",
      "Number of colors used:  101\n",
      "The graph is a complete graph with number of nodes:  101\n",
      "Graph:  dsjc1000.5\n",
      "Number of nodes:  1000\n",
      "Number of edges:  249826.0\n",
      "Density:  0.5001521521521521\n",
      "Threshold:  40\n",
      "minimum order-based chromatic number during simulation:  271\n",
      "minimum order-based chromatic number during simulation:  268\n",
      "Number of nodes colored:  1000\n",
      "Number of colors used:  609\n",
      "Threshold:  40\n",
      "minimum order-based chromatic number during simulation:  232\n",
      "minimum order-based chromatic number during simulation:  196\n",
      "Number of nodes colored:  609\n",
      "Number of colors used:  466\n",
      "Threshold:  40\n",
      "minimum order-based chromatic number during simulation:  197\n",
      "minimum order-based chromatic number during simulation:  180\n",
      "Number of nodes colored:  466\n",
      "Number of colors used:  409\n",
      "Threshold:  40\n",
      "minimum order-based chromatic number during simulation:  184\n",
      "minimum order-based chromatic number during simulation:  157\n",
      "Number of nodes colored:  409\n",
      "Number of colors used:  361\n",
      "Threshold:  40\n",
      "minimum order-based chromatic number during simulation:  166\n",
      "minimum order-based chromatic number during simulation:  145\n",
      "Number of nodes colored:  361\n",
      "Number of colors used:  323\n",
      "Threshold:  40\n",
      "minimum order-based chromatic number during simulation:  157\n",
      "minimum order-based chromatic number during simulation:  135\n",
      "Number of nodes colored:  323\n",
      "Number of colors used:  306\n",
      "Threshold:  40\n",
      "minimum order-based chromatic number during simulation:  152\n",
      "minimum order-based chromatic number during simulation:  128\n",
      "Number of nodes colored:  306\n",
      "Number of colors used:  286\n",
      "Threshold:  40\n",
      "minimum order-based chromatic number during simulation:  143\n",
      "minimum order-based chromatic number during simulation:  112\n",
      "Number of nodes colored:  286\n",
      "Number of colors used:  263\n",
      "Threshold:  40\n",
      "minimum order-based chromatic number during simulation:  131\n",
      "minimum order-based chromatic number during simulation:  113\n",
      "Number of nodes colored:  263\n",
      "Number of colors used:  248\n",
      "Threshold:  40\n",
      "minimum order-based chromatic number during simulation:  124\n",
      "minimum order-based chromatic number during simulation:  114\n",
      "Number of nodes colored:  248\n",
      "Number of colors used:  241\n",
      "Threshold:  40\n",
      "minimum order-based chromatic number during simulation:  120\n",
      "minimum order-based chromatic number during simulation:  119\n",
      "Number of nodes colored:  241\n",
      "Number of colors used:  239\n",
      "The graph is a complete graph with number of nodes:  239\n",
      "Graph:  dsjc1000.9\n",
      "Number of nodes:  1000\n",
      "Number of edges:  449449.0\n",
      "Density:  0.8997977977977978\n",
      "Threshold:  40\n",
      "minimum order-based chromatic number during simulation:  428\n",
      "minimum order-based chromatic number during simulation:  425\n",
      "Number of nodes colored:  1000\n",
      "Number of colors used:  881\n",
      "Threshold:  40\n",
      "minimum order-based chromatic number during simulation:  383\n",
      "minimum order-based chromatic number during simulation:  381\n",
      "Number of nodes colored:  881\n",
      "Number of colors used:  797\n",
      "Threshold:  40\n",
      "minimum order-based chromatic number during simulation:  354\n",
      "minimum order-based chromatic number during simulation:  342\n",
      "Number of nodes colored:  797\n",
      "Number of colors used:  730\n",
      "Threshold:  40\n",
      "minimum order-based chromatic number during simulation:  330\n",
      "minimum order-based chromatic number during simulation:  320\n",
      "Number of nodes colored:  730\n",
      "Number of colors used:  674\n",
      "Threshold:  40\n",
      "minimum order-based chromatic number during simulation:  311\n",
      "minimum order-based chromatic number during simulation:  293\n",
      "Number of nodes colored:  674\n",
      "Number of colors used:  633\n",
      "Threshold:  40\n",
      "minimum order-based chromatic number during simulation:  311\n",
      "minimum order-based chromatic number during simulation:  279\n",
      "Number of nodes colored:  633\n",
      "Number of colors used:  601\n",
      "Threshold:  40\n",
      "minimum order-based chromatic number during simulation:  299\n",
      "minimum order-based chromatic number during simulation:  254\n",
      "Number of nodes colored:  601\n",
      "Number of colors used:  574\n",
      "Threshold:  40\n",
      "minimum order-based chromatic number during simulation:  285\n"
     ]
    },
    {
     "ename": "KeyboardInterrupt",
     "evalue": "",
     "output_type": "error",
     "traceback": [
      "\u001b[0;31m---------------------------------------------------------------------------\u001b[0m",
      "\u001b[0;31mKeyboardInterrupt\u001b[0m                         Traceback (most recent call last)",
      "Cell \u001b[0;32mIn[19], line 16\u001b[0m\n\u001b[1;32m     14\u001b[0m \u001b[38;5;28mprint\u001b[39m(\u001b[38;5;124m\"\u001b[39m\u001b[38;5;124mNumber of edges: \u001b[39m\u001b[38;5;124m\"\u001b[39m, num_edges)\n\u001b[1;32m     15\u001b[0m \u001b[38;5;28mprint\u001b[39m(\u001b[38;5;124m\"\u001b[39m\u001b[38;5;124mDensity: \u001b[39m\u001b[38;5;124m\"\u001b[39m, density)\n\u001b[0;32m---> 16\u001b[0m \u001b[43mgraph_coloring_multi_levels\u001b[49m\u001b[43m(\u001b[49m\u001b[43madj\u001b[49m\u001b[43m,\u001b[49m\u001b[43m \u001b[49m\u001b[43mthresholds\u001b[49m\u001b[43m)\u001b[49m\n",
      "Cell \u001b[0;32mIn[18], line 40\u001b[0m, in \u001b[0;36mgraph_coloring_multi_levels\u001b[0;34m(adj, thresholds)\u001b[0m\n\u001b[1;32m     36\u001b[0m             adj_opt1[color_array[i], color_array[j]] \u001b[38;5;241m=\u001b[39m \u001b[38;5;241m1\u001b[39m\n\u001b[1;32m     37\u001b[0m             adj_opt1[color_array[j], color_array[i]] \u001b[38;5;241m=\u001b[39m \u001b[38;5;241m1\u001b[39m\n\u001b[0;32m---> 40\u001b[0m \u001b[43mgraph_coloring_multi_levels\u001b[49m\u001b[43m(\u001b[49m\u001b[43madj_opt1\u001b[49m\u001b[43m,\u001b[49m\u001b[43m \u001b[49m\u001b[43mthresholds\u001b[49m\u001b[43m)\u001b[49m\n",
      "Cell \u001b[0;32mIn[18], line 40\u001b[0m, in \u001b[0;36mgraph_coloring_multi_levels\u001b[0;34m(adj, thresholds)\u001b[0m\n\u001b[1;32m     36\u001b[0m             adj_opt1[color_array[i], color_array[j]] \u001b[38;5;241m=\u001b[39m \u001b[38;5;241m1\u001b[39m\n\u001b[1;32m     37\u001b[0m             adj_opt1[color_array[j], color_array[i]] \u001b[38;5;241m=\u001b[39m \u001b[38;5;241m1\u001b[39m\n\u001b[0;32m---> 40\u001b[0m \u001b[43mgraph_coloring_multi_levels\u001b[49m\u001b[43m(\u001b[49m\u001b[43madj_opt1\u001b[49m\u001b[43m,\u001b[49m\u001b[43m \u001b[49m\u001b[43mthresholds\u001b[49m\u001b[43m)\u001b[49m\n",
      "    \u001b[0;31m[... skipping similar frames: graph_coloring_multi_levels at line 40 (4 times)]\u001b[0m\n",
      "Cell \u001b[0;32mIn[18], line 40\u001b[0m, in \u001b[0;36mgraph_coloring_multi_levels\u001b[0;34m(adj, thresholds)\u001b[0m\n\u001b[1;32m     36\u001b[0m             adj_opt1[color_array[i], color_array[j]] \u001b[38;5;241m=\u001b[39m \u001b[38;5;241m1\u001b[39m\n\u001b[1;32m     37\u001b[0m             adj_opt1[color_array[j], color_array[i]] \u001b[38;5;241m=\u001b[39m \u001b[38;5;241m1\u001b[39m\n\u001b[0;32m---> 40\u001b[0m \u001b[43mgraph_coloring_multi_levels\u001b[49m\u001b[43m(\u001b[49m\u001b[43madj_opt1\u001b[49m\u001b[43m,\u001b[49m\u001b[43m \u001b[49m\u001b[43mthresholds\u001b[49m\u001b[43m)\u001b[49m\n",
      "Cell \u001b[0;32mIn[18], line 15\u001b[0m, in \u001b[0;36mgraph_coloring_multi_levels\u001b[0;34m(adj, thresholds)\u001b[0m\n\u001b[1;32m     12\u001b[0m \u001b[38;5;28mprint\u001b[39m(\u001b[38;5;124m\"\u001b[39m\u001b[38;5;124mThreshold: \u001b[39m\u001b[38;5;124m\"\u001b[39m, threshold)\n\u001b[1;32m     13\u001b[0m \u001b[38;5;66;03m# pr = cProfile.Profile()\u001b[39;00m\n\u001b[1;32m     14\u001b[0m \u001b[38;5;66;03m# pr.enable()\u001b[39;00m\n\u001b[0;32m---> 15\u001b[0m colors \u001b[38;5;241m=\u001b[39m \u001b[43mgraph_coloring1\u001b[49m\u001b[43m(\u001b[49m\u001b[43madj\u001b[49m\u001b[43m,\u001b[49m\u001b[43m \u001b[49m\u001b[43mthreshold\u001b[49m\u001b[43m)\u001b[49m\n\u001b[1;32m     16\u001b[0m \u001b[38;5;66;03m# pr.disable()\u001b[39;00m\n\u001b[1;32m     17\u001b[0m \u001b[38;5;66;03m# s = io.StringIO()\u001b[39;00m\n\u001b[1;32m     18\u001b[0m \u001b[38;5;66;03m# sortby = SortKey.TIME\u001b[39;00m\n\u001b[1;32m     19\u001b[0m \u001b[38;5;66;03m# ps = pstats.Stats(pr, stream=s).sort_stats(sortby)\u001b[39;00m\n\u001b[1;32m     20\u001b[0m \u001b[38;5;66;03m# ps.print_stats()\u001b[39;00m\n\u001b[1;32m     21\u001b[0m \u001b[38;5;66;03m# print(s.getvalue())\u001b[39;00m\n\u001b[1;32m     22\u001b[0m cnt \u001b[38;5;241m=\u001b[39m \u001b[38;5;241m0\u001b[39m\n",
      "Cell \u001b[0;32mIn[14], line 15\u001b[0m, in \u001b[0;36mgraph_coloring1\u001b[0;34m(adj, threshold)\u001b[0m\n\u001b[1;32m     13\u001b[0m adj1, adj0, cut, map_index1, map_index0, reverse_map \u001b[38;5;241m=\u001b[39m moe_maxcut(adj)\n\u001b[1;32m     14\u001b[0m colors1 \u001b[38;5;241m=\u001b[39m graph_coloring1(adj1)\n\u001b[0;32m---> 15\u001b[0m colors0 \u001b[38;5;241m=\u001b[39m \u001b[43mgraph_coloring1\u001b[49m\u001b[43m(\u001b[49m\u001b[43madj0\u001b[49m\u001b[43m)\u001b[49m\n\u001b[1;32m     16\u001b[0m colors_merged \u001b[38;5;241m=\u001b[39m []\n\u001b[1;32m     17\u001b[0m \u001b[38;5;28;01mfor\u001b[39;00m color_block \u001b[38;5;129;01min\u001b[39;00m colors1:\n",
      "Cell \u001b[0;32mIn[14], line 11\u001b[0m, in \u001b[0;36mgraph_coloring1\u001b[0;34m(adj, threshold)\u001b[0m\n\u001b[1;32m      9\u001b[0m \u001b[38;5;28;01mdef\u001b[39;00m\u001b[38;5;250m \u001b[39m\u001b[38;5;21mgraph_coloring1\u001b[39m(adj, threshold\u001b[38;5;241m=\u001b[39m\u001b[38;5;241m1000000\u001b[39m):\n\u001b[1;32m     10\u001b[0m     \u001b[38;5;28;01mif\u001b[39;00m adj\u001b[38;5;241m.\u001b[39mshape[\u001b[38;5;241m0\u001b[39m] \u001b[38;5;241m<\u001b[39m\u001b[38;5;241m=\u001b[39m threshold:\n\u001b[0;32m---> 11\u001b[0m         \u001b[38;5;28;01mreturn\u001b[39;00m \u001b[43mgraph_painter\u001b[49m\u001b[43m(\u001b[49m\u001b[43madj\u001b[49m\u001b[43m)\u001b[49m\n\u001b[1;32m     12\u001b[0m     \u001b[38;5;28;01melse\u001b[39;00m:\n\u001b[1;32m     13\u001b[0m         adj1, adj0, cut, map_index1, map_index0, reverse_map \u001b[38;5;241m=\u001b[39m moe_maxcut(adj)\n",
      "Cell \u001b[0;32mIn[5], line 69\u001b[0m, in \u001b[0;36mgraph_painter\u001b[0;34m(adj)\u001b[0m\n\u001b[1;32m     67\u001b[0m curr_phi \u001b[38;5;241m=\u001b[39m phi_history[i,:]\n\u001b[1;32m     68\u001b[0m P, order \u001b[38;5;241m=\u001b[39m gen_permutation_matrix(curr_phi)\n\u001b[0;32m---> 69\u001b[0m chr_n, chr_n_color_blocks \u001b[38;5;241m=\u001b[39m \u001b[43mget_chr\u001b[49m\u001b[43m(\u001b[49m\u001b[43mP\u001b[49m\u001b[43m,\u001b[49m\u001b[43m \u001b[49m\u001b[43madj\u001b[49m\u001b[43m,\u001b[49m\u001b[43m \u001b[49m\u001b[43morder\u001b[49m\u001b[43m)\u001b[49m  \u001b[38;5;66;03m# changes here\u001b[39;00m\n\u001b[1;32m     70\u001b[0m \u001b[38;5;28;01mif\u001b[39;00m chr_n\u001b[38;5;241m<\u001b[39mmin_chr_n:\n\u001b[1;32m     71\u001b[0m     min_chr_n \u001b[38;5;241m=\u001b[39m chr_n\n",
      "File \u001b[0;32m~/Desktop/Sem_9/DDP/Maxcut/GraphColoringTest.py:35\u001b[0m, in \u001b[0;36mget_chr\u001b[0;34m(P, A, order)\u001b[0m\n\u001b[1;32m     32\u001b[0m color_block \u001b[38;5;241m=\u001b[39m []\n\u001b[1;32m     33\u001b[0m \u001b[38;5;28;01mwhile\u001b[39;00m (condition\u001b[38;5;241m==\u001b[39m\u001b[38;5;241m0\u001b[39m \u001b[38;5;129;01mand\u001b[39;00m (i\u001b[38;5;241m+\u001b[39mblock)\u001b[38;5;241m<\u001b[39mn):\n\u001b[1;32m     34\u001b[0m     \u001b[38;5;66;03m#if PAPT[i:i+block+1,i:i+block+1] == np.zeros((block+1,block+1)):\u001b[39;00m\n\u001b[0;32m---> 35\u001b[0m     \u001b[38;5;28;01mif\u001b[39;00m \u001b[43mnp\u001b[49m\u001b[38;5;241;43m.\u001b[39;49m\u001b[43msum\u001b[49m\u001b[43m(\u001b[49m\u001b[43mnp\u001b[49m\u001b[38;5;241;43m.\u001b[39;49m\u001b[43mabs\u001b[49m\u001b[43m(\u001b[49m\u001b[43mPAPT\u001b[49m\u001b[43m[\u001b[49m\u001b[43mi\u001b[49m\u001b[43m:\u001b[49m\u001b[43mi\u001b[49m\u001b[38;5;241;43m+\u001b[39;49m\u001b[43mblock\u001b[49m\u001b[38;5;241;43m+\u001b[39;49m\u001b[38;5;241;43m1\u001b[39;49m\u001b[43m,\u001b[49m\u001b[43mi\u001b[49m\u001b[43m:\u001b[49m\u001b[43mi\u001b[49m\u001b[38;5;241;43m+\u001b[39;49m\u001b[43mblock\u001b[49m\u001b[38;5;241;43m+\u001b[39;49m\u001b[38;5;241;43m1\u001b[39;49m\u001b[43m]\u001b[49m\u001b[43m)\u001b[49m\u001b[43m)\u001b[49m \u001b[38;5;241m==\u001b[39m \u001b[38;5;241m0\u001b[39m:\n\u001b[1;32m     36\u001b[0m         color_block\u001b[38;5;241m.\u001b[39mappend(order[i\u001b[38;5;241m+\u001b[39mblock])\n\u001b[1;32m     37\u001b[0m         block \u001b[38;5;241m=\u001b[39m block\u001b[38;5;241m+\u001b[39m\u001b[38;5;241m1\u001b[39m\n",
      "File \u001b[0;32m~/Desktop/Sem_9/DDP/Maxcut/.venv/lib/python3.10/site-packages/numpy/core/fromnumeric.py:2313\u001b[0m, in \u001b[0;36msum\u001b[0;34m(a, axis, dtype, out, keepdims, initial, where)\u001b[0m\n\u001b[1;32m   2310\u001b[0m         \u001b[38;5;28;01mreturn\u001b[39;00m out\n\u001b[1;32m   2311\u001b[0m     \u001b[38;5;28;01mreturn\u001b[39;00m res\n\u001b[0;32m-> 2313\u001b[0m \u001b[38;5;28;01mreturn\u001b[39;00m \u001b[43m_wrapreduction\u001b[49m\u001b[43m(\u001b[49m\u001b[43ma\u001b[49m\u001b[43m,\u001b[49m\u001b[43m \u001b[49m\u001b[43mnp\u001b[49m\u001b[38;5;241;43m.\u001b[39;49m\u001b[43madd\u001b[49m\u001b[43m,\u001b[49m\u001b[43m \u001b[49m\u001b[38;5;124;43m'\u001b[39;49m\u001b[38;5;124;43msum\u001b[39;49m\u001b[38;5;124;43m'\u001b[39;49m\u001b[43m,\u001b[49m\u001b[43m \u001b[49m\u001b[43maxis\u001b[49m\u001b[43m,\u001b[49m\u001b[43m \u001b[49m\u001b[43mdtype\u001b[49m\u001b[43m,\u001b[49m\u001b[43m \u001b[49m\u001b[43mout\u001b[49m\u001b[43m,\u001b[49m\u001b[43m \u001b[49m\u001b[43mkeepdims\u001b[49m\u001b[38;5;241;43m=\u001b[39;49m\u001b[43mkeepdims\u001b[49m\u001b[43m,\u001b[49m\n\u001b[1;32m   2314\u001b[0m \u001b[43m                      \u001b[49m\u001b[43minitial\u001b[49m\u001b[38;5;241;43m=\u001b[39;49m\u001b[43minitial\u001b[49m\u001b[43m,\u001b[49m\u001b[43m \u001b[49m\u001b[43mwhere\u001b[49m\u001b[38;5;241;43m=\u001b[39;49m\u001b[43mwhere\u001b[49m\u001b[43m)\u001b[49m\n",
      "File \u001b[0;32m~/Desktop/Sem_9/DDP/Maxcut/.venv/lib/python3.10/site-packages/numpy/core/fromnumeric.py:88\u001b[0m, in \u001b[0;36m_wrapreduction\u001b[0;34m(obj, ufunc, method, axis, dtype, out, **kwargs)\u001b[0m\n\u001b[1;32m     85\u001b[0m         \u001b[38;5;28;01melse\u001b[39;00m:\n\u001b[1;32m     86\u001b[0m             \u001b[38;5;28;01mreturn\u001b[39;00m reduction(axis\u001b[38;5;241m=\u001b[39maxis, out\u001b[38;5;241m=\u001b[39mout, \u001b[38;5;241m*\u001b[39m\u001b[38;5;241m*\u001b[39mpasskwargs)\n\u001b[0;32m---> 88\u001b[0m \u001b[38;5;28;01mreturn\u001b[39;00m \u001b[43mufunc\u001b[49m\u001b[38;5;241;43m.\u001b[39;49m\u001b[43mreduce\u001b[49m\u001b[43m(\u001b[49m\u001b[43mobj\u001b[49m\u001b[43m,\u001b[49m\u001b[43m \u001b[49m\u001b[43maxis\u001b[49m\u001b[43m,\u001b[49m\u001b[43m \u001b[49m\u001b[43mdtype\u001b[49m\u001b[43m,\u001b[49m\u001b[43m \u001b[49m\u001b[43mout\u001b[49m\u001b[43m,\u001b[49m\u001b[43m \u001b[49m\u001b[38;5;241;43m*\u001b[39;49m\u001b[38;5;241;43m*\u001b[39;49m\u001b[43mpasskwargs\u001b[49m\u001b[43m)\u001b[49m\n",
      "\u001b[0;31mKeyboardInterrupt\u001b[0m: "
     ]
    }
   ],
   "source": [
    "thresholds = [40]\n",
    "col_graph_names = ['dsjc125.1','dsjc125.5','dsjc250.5','dsjc500.1','dsjc500.5','dsjc500.9','dsjc1000.1','dsjc1000.5','dsjc1000.9','dsjr500.1c','dsjr500.5','flat300_28_0','flat1000_50_0','flat1000_60_0','flat1000_76_0','latin_square','le450_25c','le450_25d','myciel6','myciel7','queen6_6','r250.5','r1000.1c','r1000.5']\n",
    "    # graph = 'dsjc500.1'\n",
    "col_graph_names2 = ['dsjc1000.1','dsjc1000.5','dsjc1000.9']\n",
    "for graph in col_graph_names2:\n",
    "    G = mat_to_graph('test_graphs/' + graph + '.mat')\n",
    "    adj = nx.adjacency_matrix(G).toarray()\n",
    "    adj = np.asarray(adj, dtype=np.int32)\n",
    "    num_nodes = adj.shape[0]\n",
    "    num_edges = np.sum(adj)/2\n",
    "    density = 2*num_edges/(num_nodes*(num_nodes-1))\n",
    "    print(\"Graph: \", graph)\n",
    "    print(\"Number of nodes: \", num_nodes)   \n",
    "    print(\"Number of edges: \", num_edges)\n",
    "    print(\"Density: \", density)\n",
    "    graph_coloring_multi_levels(adj, thresholds)"
   ]
  },
  {
   "cell_type": "code",
   "execution_count": null,
   "metadata": {},
   "outputs": [],
   "source": []
  },
  {
   "cell_type": "code",
   "execution_count": null,
   "metadata": {},
   "outputs": [],
   "source": []
  },
  {
   "cell_type": "code",
   "execution_count": null,
   "metadata": {},
   "outputs": [],
   "source": []
  },
  {
   "cell_type": "code",
   "execution_count": null,
   "metadata": {},
   "outputs": [],
   "source": [
    "# IGNORE THE CODE AHEAD"
   ]
  },
  {
   "cell_type": "code",
   "execution_count": 8,
   "metadata": {},
   "outputs": [],
   "source": [
    "def check_validity(G_sub1,G_sub2,G,color_blocks1,color_blocks2,cut,part1,part2):\n",
    "    colors1 = np.zeros(G_sub1.number_of_nodes())\n",
    "    colors2 = np.zeros(G_sub2.number_of_nodes())\n",
    "    color_index = 0\n",
    "    for i,block in enumerate(color_blocks1):\n",
    "        for node in block:\n",
    "            colors1[node] = color_index\n",
    "        color_index += 1\n",
    "    for i,block in enumerate(color_blocks2):\n",
    "        for node in block:\n",
    "            colors2[node] = color_index\n",
    "        color_index += 1\n",
    "\n",
    "    # check if the coloring is valid\n",
    "    valid_coloring1 = True\n",
    "    valid_coloring2 = True\n",
    "    for edges in G_sub1.edges:\n",
    "        if colors1[edges[0]] == colors1[edges[1]]:\n",
    "            valid_coloring1 = False\n",
    "            print(\"Invalid coloring for subgraph 1\")\n",
    "            print(edges)\n",
    "    for edges in G_sub2.edges:\n",
    "        if colors2[edges[0]] == colors2[edges[1]]:\n",
    "            valid_coloring2 = False\n",
    "            print(\"Invalid coloring for subgraph 2\")\n",
    "            print(edges)\n",
    "\n",
    "    if(valid_coloring1):\n",
    "        print(\"Valid coloring for subgraph 1\")\n",
    "    if(valid_coloring2):\n",
    "        print(\"Valid coloring for subgraph 2\")\n",
    "\n",
    "    # combine the two colorings\n",
    "    # Using two pointers approach\n",
    "    i = 0\n",
    "    j = 0\n",
    "    k = 0\n",
    "\n",
    "    merged_colors = np.zeros(G.number_of_nodes())\n",
    "    \n",
    "    while i < G_sub1.number_of_nodes() and j < G_sub2.number_of_nodes():\n",
    "        if cut[k] == 0:\n",
    "            merged_colors[part1[i]] = colors1[i]\n",
    "            i += 1\n",
    "        else:\n",
    "            merged_colors[part2[j]] = colors2[j]\n",
    "            j += 1\n",
    "        k += 1\n",
    "    while i < G_sub1.number_of_nodes():\n",
    "        merged_colors[part1[i]] = colors1[i]\n",
    "        i += 1\n",
    "        k += 1\n",
    "\n",
    "    while j < G_sub2.number_of_nodes():\n",
    "        merged_colors[part2[j]] = colors2[j]\n",
    "        j += 1\n",
    "        k += 1\n",
    "\n",
    "    # check if the coloring is valid\n",
    "    valid_coloring = True\n",
    "    for edges in G.edges:\n",
    "        if merged_colors[edges[0]] == merged_colors[edges[1]]:\n",
    "            valid_coloring = False\n",
    "            print(\"Invalid coloring for full Graph\")\n",
    "            print(edges)\n",
    "    if valid_coloring:\n",
    "        print(\"Valid coloring for full Graph\")\n",
    "    return merged_colors\n",
    "\n",
    "\n",
    "def check_reducibility(num_colors, merged_colors, G):\n",
    "    color_adj = np.zeros((num_colors, num_colors))\n",
    "    for edges in G.edges():\n",
    "        color_adj[int(merged_colors[edges[0]])][int(merged_colors[edges[1]])] = 1\n",
    "        color_adj[int(merged_colors[edges[1]])][int(merged_colors[edges[0]])] = 1\n",
    "    \n",
    "    temp_check = np.ones((num_colors,num_colors))-np.eye(num_colors)\n",
    "    flag = np.array_equal(color_adj,temp_check)\n",
    "    if flag:\n",
    "        print(\"Not reducible\")\n",
    "    else:\n",
    "        print(\"Reducible\")\n",
    "    \n",
    "    print(color_adj)\n",
    "    return flag, color_adj\n",
    "\n",
    "\n",
    "def min_chromatic_number(G):\n",
    "    # Use networkx's greedy_color algorithm to assign colors # Might not be complete\n",
    "    color_assignment = nx.coloring.greedy_color(G, strategy=\"largest_first\")\n",
    "    \n",
    "    # The chromatic number is the maximum color index used + 1\n",
    "    chromatic_number = max(color_assignment.values()) + 1\n",
    "    \n",
    "    # Returning chromatic number and color assignment for nodes\n",
    "    return chromatic_number, color_assignment\n"
   ]
  },
  {
   "cell_type": "code",
   "execution_count": null,
   "metadata": {},
   "outputs": [],
   "source": []
  },
  {
   "cell_type": "code",
   "execution_count": null,
   "metadata": {},
   "outputs": [],
   "source": []
  },
  {
   "cell_type": "code",
   "execution_count": null,
   "metadata": {},
   "outputs": [],
   "source": []
  }
 ],
 "metadata": {
  "kernelspec": {
   "display_name": ".venv",
   "language": "python",
   "name": "python3"
  },
  "language_info": {
   "codemirror_mode": {
    "name": "ipython",
    "version": 3
   },
   "file_extension": ".py",
   "mimetype": "text/x-python",
   "name": "python",
   "nbconvert_exporter": "python",
   "pygments_lexer": "ipython3",
   "version": "3.10.16"
  }
 },
 "nbformat": 4,
 "nbformat_minor": 2
}
